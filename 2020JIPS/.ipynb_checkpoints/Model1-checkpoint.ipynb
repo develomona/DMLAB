{
 "cells": [
  {
   "cell_type": "code",
   "execution_count": null,
   "metadata": {},
   "outputs": [],
   "source": []
  },
  {
   "cell_type": "code",
   "execution_count": 2,
   "metadata": {
    "ExecuteTime": {
     "end_time": "2020-07-22T06:25:48.975983Z",
     "start_time": "2020-07-22T06:25:48.973797Z"
    },
    "hide_input": false,
    "init_cell": true
   },
   "outputs": [],
   "source": [
    "import pandas as pd\n",
    "import numpy as np\n",
    "import re\n",
    "import os\n",
    "from imblearn.over_sampling import SMOTE\n",
    "\n",
    "#nltk\n",
    "import nltk"
   ]
  },
  {
   "cell_type": "code",
   "execution_count": 3,
   "metadata": {
    "ExecuteTime": {
     "end_time": "2020-07-22T06:25:50.788307Z",
     "start_time": "2020-07-22T06:25:50.784860Z"
    }
   },
   "outputs": [
    {
     "name": "stdout",
     "output_type": "stream",
     "text": [
      "['i', 'me', 'my', 'myself', 'we', 'our', 'ours', 'ourselves', 'you', \"you're\", \"you've\", \"you'll\", \"you'd\", 'your', 'yours', 'yourself', 'yourselves', 'he', 'him', 'his', 'himself', 'she', \"she's\", 'her', 'hers', 'herself', 'it', \"it's\", 'its', 'itself', 'they', 'them', 'their', 'theirs', 'themselves', 'what', 'which', 'who', 'whom', 'this', 'that', \"that'll\", 'these', 'those', 'am', 'is', 'are', 'was', 'were', 'be', 'been', 'being', 'have', 'has', 'had', 'having', 'do', 'does', 'did', 'doing', 'a', 'an', 'the', 'and', 'but', 'if', 'or', 'because', 'as', 'until', 'while', 'of', 'at', 'by', 'for', 'with', 'about', 'against', 'between', 'into', 'through', 'during', 'before', 'after', 'above', 'below', 'to', 'from', 'up', 'down', 'in', 'out', 'on', 'off', 'over', 'under', 'again', 'further', 'then', 'once', 'here', 'there', 'when', 'where', 'why', 'how', 'all', 'any', 'both', 'each', 'few', 'more', 'most', 'other', 'some', 'such', 'no', 'nor', 'not', 'only', 'own', 'same', 'so', 'than', 'too', 'very', 's', 't', 'can', 'will', 'just', 'don', \"don't\", 'should', \"should've\", 'now', 'd', 'll', 'm', 'o', 're', 've', 'y', 'ain', 'aren', \"aren't\", 'couldn', \"couldn't\", 'didn', \"didn't\", 'doesn', \"doesn't\", 'hadn', \"hadn't\", 'hasn', \"hasn't\", 'haven', \"haven't\", 'isn', \"isn't\", 'ma', 'mightn', \"mightn't\", 'mustn', \"mustn't\", 'needn', \"needn't\", 'shan', \"shan't\", 'shouldn', \"shouldn't\", 'wasn', \"wasn't\", 'weren', \"weren't\", 'won', \"won't\", 'wouldn', \"wouldn't\"]\n"
     ]
    }
   ],
   "source": [
    "#english 파일(불용어 포함되어 있는 파일)\n",
    "english_file = open('english', mode='r')\n",
    "english_data = english_file.readlines()\n",
    "english_text = []\n",
    "\n",
    "for i in english_data:\n",
    "    english_text.append(i[:-1])\n",
    "\n",
    "print(english_text)"
   ]
  },
  {
   "cell_type": "code",
   "execution_count": 4,
   "metadata": {
    "ExecuteTime": {
     "end_time": "2020-07-22T06:25:57.096509Z",
     "start_time": "2020-07-22T06:25:53.634363Z"
    }
   },
   "outputs": [
    {
     "name": "stdout",
     "output_type": "stream",
     "text": [
      "        Unnamed: 0  HotelInfo.HotelID                                 Author  \\\n",
      "0                0             280518                                Clara79   \n",
      "1                1             280518                           BerlinerPooh   \n",
      "2                2             280518                           amazingthing   \n",
      "3                3             280518                                  Nitus   \n",
      "4                4             280518                              mattp1874   \n",
      "...            ...                ...                                    ...   \n",
      "355167      412934             289861  Posted by an Accorhotels.com traveler   \n",
      "355168      412935             289861  Posted by an Accorhotels.com traveler   \n",
      "355169      412936             289861                         paulpowell3540   \n",
      "355170      412937             289861                              uclabobby   \n",
      "355171      412938             289861                                 Eric C   \n",
      "\n",
      "                                                  Content  \\\n",
      "0       hotel bit surprise could find review anywhere ...   \n",
      "1       room adequate little drab side noisy main stre...   \n",
      "2       first read review side booking asked quiet dou...   \n",
      "3       one night stay artus hotel berlin hard leave h...   \n",
      "4       stayed hotel night ok missing finer touch chai...   \n",
      "...                                                   ...   \n",
      "355167  stayed week rustica child year hotel easy find...   \n",
      "355168  superb stay novotel although outside city dail...   \n",
      "355169  yes distance rome however hotel run cheap shut...   \n",
      "355170  hotel nice look nice room comfortable seasonal...   \n",
      "355171  stay novotel la rustica rome hai problem cause...   \n",
      "\n",
      "                                                   tokens  \n",
      "0       ['hotel', 'bit', 'surprise', 'could', 'find', ...  \n",
      "1       ['room', 'adequate', 'little', 'drab', 'side',...  \n",
      "2       ['first', 'read', 'review', 'side', 'booking',...  \n",
      "3       ['one', 'night', 'stay', 'artus', 'hotel', 'be...  \n",
      "4       ['stayed', 'hotel', 'night', 'ok', 'missing', ...  \n",
      "...                                                   ...  \n",
      "355167  ['stayed', 'week', 'rustica', 'child', 'year',...  \n",
      "355168  ['superb', 'stay', 'novotel', 'although', 'out...  \n",
      "355169  ['yes', 'distance', 'rome', 'however', 'hotel'...  \n",
      "355170  ['hotel', 'nice', 'look', 'nice', 'room', 'com...  \n",
      "355171  ['stay', 'novotel', 'la', 'rustica', 'rome', '...  \n",
      "\n",
      "[355172 rows x 5 columns]\n"
     ]
    }
   ],
   "source": [
    "tokenizer_data = pd.read_csv(\"tokenizer.csv\")\n",
    "print(tokenizer_data)"
   ]
  },
  {
   "cell_type": "code",
   "execution_count": 5,
   "metadata": {
    "ExecuteTime": {
     "end_time": "2020-07-22T06:26:12.782170Z",
     "start_time": "2020-07-22T06:26:03.594258Z"
    }
   },
   "outputs": [
    {
     "name": "stdout",
     "output_type": "stream",
     "text": [
      "314776601 words total, with a vocabulary size of 31\n",
      "Max sentence length is 25086\n"
     ]
    }
   ],
   "source": [
    "all_training_words = [word for tokens in tokenizer_data[\"tokens\"] for word in tokens]\n",
    "training_sentence_lengths = [len(tokens) for tokens in tokenizer_data[\"tokens\"]]\n",
    "TRAINING_VOCAB = sorted(list(set(all_training_words)))\n",
    "print(\"%s words total, with a vocabulary size of %s\" % (len(all_training_words), len(TRAINING_VOCAB)))\n",
    "print(\"Max sentence length is %s\" % max(training_sentence_lengths))"
   ]
  },
  {
   "cell_type": "code",
   "execution_count": 6,
   "metadata": {
    "ExecuteTime": {
     "end_time": "2020-07-22T06:26:59.225468Z",
     "start_time": "2020-07-22T06:26:47.834911Z"
    }
   },
   "outputs": [
    {
     "name": "stdout",
     "output_type": "stream",
     "text": [
      "314776601 words total, with a vocabulary size of 31\n",
      "Max sentence length is 25086\n"
     ]
    }
   ],
   "source": [
    "all_test_words = [word for tokens in tokenizer_data[\"tokens\"] for word in tokens]\n",
    "test_sentence_lengths = [len(tokens) for tokens in tokenizer_data[\"tokens\"]]\n",
    "TEST_VOCAB = sorted(list(set(all_test_words)))\n",
    "print(\"%s words total, with a vocabulary size of %s\" % (len(all_test_words), len(TEST_VOCAB)))\n",
    "print(\"Max sentence length is %s\" % max(test_sentence_lengths))"
   ]
  }
 ],
 "metadata": {
  "celltoolbar": "Initialization Cell",
  "kernelspec": {
   "display_name": "Python 3",
   "language": "python",
   "name": "python3"
  },
  "language_info": {
   "codemirror_mode": {
    "name": "ipython",
    "version": 3
   },
   "file_extension": ".py",
   "mimetype": "text/x-python",
   "name": "python",
   "nbconvert_exporter": "python",
   "pygments_lexer": "ipython3",
   "version": "3.7.5"
  },
  "toc": {
   "base_numbering": 1,
   "nav_menu": {},
   "number_sections": true,
   "sideBar": true,
   "skip_h1_title": false,
   "title_cell": "Table of Contents",
   "title_sidebar": "Contents",
   "toc_cell": false,
   "toc_position": {},
   "toc_section_display": true,
   "toc_window_display": false
  },
  "varInspector": {
   "cols": {
    "lenName": 16,
    "lenType": 16,
    "lenVar": 40
   },
   "kernels_config": {
    "python": {
     "delete_cmd_postfix": "",
     "delete_cmd_prefix": "del ",
     "library": "var_list.py",
     "varRefreshCmd": "print(var_dic_list())"
    },
    "r": {
     "delete_cmd_postfix": ") ",
     "delete_cmd_prefix": "rm(",
     "library": "var_list.r",
     "varRefreshCmd": "cat(var_dic_list()) "
    }
   },
   "position": {
    "height": "144px",
    "left": "1525px",
    "right": "20px",
    "top": "152px",
    "width": "350px"
   },
   "types_to_exclude": [
    "module",
    "function",
    "builtin_function_or_method",
    "instance",
    "_Feature"
   ],
   "window_display": false
  }
 },
 "nbformat": 4,
 "nbformat_minor": 4
}
