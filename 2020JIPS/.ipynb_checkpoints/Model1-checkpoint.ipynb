{
 "cells": [
  {
   "cell_type": "markdown",
   "metadata": {},
   "source": [
    "## IPC"
   ]
  },
  {
   "cell_type": "markdown",
   "metadata": {},
   "source": [
    "### Module Import"
   ]
  },
  {
   "cell_type": "code",
   "execution_count": 6,
   "metadata": {
    "ExecuteTime": {
     "end_time": "2020-07-29T14:21:26.787789Z",
     "start_time": "2020-07-29T14:21:26.779211Z"
    },
    "scrolled": true
   },
   "outputs": [],
   "source": [
    "%matplotlib inline\n",
    "import matplotlib.pyplot as plt\n",
    "import matplotlib \n",
    "\n",
    "from sklearn import model_selection, metrics\n",
    "# from __future__ import print_function\n",
    "import pandas as pd\n",
    "import numpy as np\n",
    "from tensorflow.keras.preprocessing.text import Tokenizer\n",
    "from sklearn.model_selection import train_test_split\n",
    "from sklearn.preprocessing import MinMaxScaler\n",
    "from keras.preprocessing import sequence\n",
    "from keras.models import Sequential\n",
    "from keras.layers import Input, Dense, Dropout, Activation, Embedding, LSTM, Conv1D, MaxPooling1D\n",
    "from tensorflow.python.client import device_lib\n",
    "import keras.backend.tensorflow_backend as K\n",
    "from keras import layers, models, Model\n",
    "import tensorflow as tf\n",
    "#word_tokenizing\n",
    "import re\n",
    "import os\n",
    "from imblearn.over_sampling import SMOTE\n",
    "# preprocessing\n",
    "from nltk import word_tokenize, sent_tokenize\n",
    "from nltk.stem import PorterStemmer,LancasterStemmer,WordNetLemmatizer\n",
    "from nltk.stem.snowball import SnowballStemmer\n",
    "from nltk.tokenize import RegexpTokenizer\n",
    "from nltk_data.corpora import wordnet\n",
    "from keras.utils import multi_gpu_model"
   ]
  },
  {
   "cell_type": "markdown",
   "metadata": {
    "ExecuteTime": {
     "start_time": "2020-07-25T11:10:18.132Z"
    }
   },
   "source": [
    "### Text data tokenizing"
   ]
  },
  {
   "cell_type": "markdown",
   "metadata": {},
   "source": [
    "#### Data input"
   ]
  },
  {
   "cell_type": "code",
   "execution_count": 3,
   "metadata": {
    "ExecuteTime": {
     "end_time": "2020-07-29T11:46:10.287709Z",
     "start_time": "2020-07-29T11:45:59.159415Z"
    },
    "scrolled": true
   },
   "outputs": [],
   "source": [
    "input_data = './Data/tripad_data.csv'\n",
    "raw_data = pd.read_csv(input_data)\n",
    "raw_data = raw_data.dropna(axis=0) # Delete nan rows\n",
    "raw_data = raw_data.drop([\"Unnamed: 0\"], axis=1) # Delete Unnamed: 0 row\n",
    "#print(raw_data['Content'].head)\n",
    "raw_data = raw_data.reset_index()\n",
    "raw_data = raw_data.drop([\"index\"], axis=1)"
   ]
  },
  {
   "cell_type": "code",
   "execution_count": 4,
   "metadata": {
    "ExecuteTime": {
     "end_time": "2020-07-29T11:46:13.158894Z",
     "start_time": "2020-07-29T11:46:13.153782Z"
    }
   },
   "outputs": [
    {
     "name": "stdout",
     "output_type": "stream",
     "text": [
      "['HotelInfo.HotelID', 'HotelInfo.Name', 'Author', 'ReviewID', 'Service', 'Cleanliness', 'Rooms', 'Value', 'Sleep Quality', 'Location', 'Business service (e.g., internet access)', 'Check in / front desk', 'Overall', 'Title', 'Content', 'Date', 'AuthorLocation']\n"
     ]
    }
   ],
   "source": [
    "print(list(raw_data))"
   ]
  },
  {
   "cell_type": "markdown",
   "metadata": {},
   "source": [
    "#### Stopwords Apply"
   ]
  },
  {
   "cell_type": "code",
   "execution_count": 8,
   "metadata": {
    "ExecuteTime": {
     "end_time": "2020-07-29T11:47:22.280429Z",
     "start_time": "2020-07-29T11:47:22.260113Z"
    },
    "scrolled": true
   },
   "outputs": [
    {
     "data": {
      "text/plain": [
       "['i',\n",
       " 'me',\n",
       " 'my',\n",
       " 'myself',\n",
       " 'we',\n",
       " 'our',\n",
       " 'ours',\n",
       " 'ourselves',\n",
       " 'you',\n",
       " \"you're\",\n",
       " \"you've\",\n",
       " \"you'll\",\n",
       " \"you'd\",\n",
       " 'your',\n",
       " 'yours',\n",
       " 'yourself',\n",
       " 'yourselves',\n",
       " 'he',\n",
       " 'him',\n",
       " 'his',\n",
       " 'himself',\n",
       " 'she',\n",
       " \"she's\",\n",
       " 'her',\n",
       " 'hers',\n",
       " 'herself',\n",
       " 'it',\n",
       " \"it's\",\n",
       " 'its',\n",
       " 'itself',\n",
       " 'they',\n",
       " 'them',\n",
       " 'their',\n",
       " 'theirs',\n",
       " 'themselves',\n",
       " 'what',\n",
       " 'which',\n",
       " 'who',\n",
       " 'whom',\n",
       " 'this',\n",
       " 'that',\n",
       " \"that'll\",\n",
       " 'these',\n",
       " 'those',\n",
       " 'am',\n",
       " 'is',\n",
       " 'are',\n",
       " 'was',\n",
       " 'were',\n",
       " 'be',\n",
       " 'been',\n",
       " 'being',\n",
       " 'have',\n",
       " 'has',\n",
       " 'had',\n",
       " 'having',\n",
       " 'do',\n",
       " 'does',\n",
       " 'did',\n",
       " 'doing',\n",
       " 'a',\n",
       " 'an',\n",
       " 'the',\n",
       " 'and',\n",
       " 'but',\n",
       " 'if',\n",
       " 'or',\n",
       " 'because',\n",
       " 'as',\n",
       " 'until',\n",
       " 'while',\n",
       " 'of',\n",
       " 'at',\n",
       " 'by',\n",
       " 'for',\n",
       " 'with',\n",
       " 'about',\n",
       " 'against',\n",
       " 'between',\n",
       " 'into',\n",
       " 'through',\n",
       " 'during',\n",
       " 'before',\n",
       " 'after',\n",
       " 'above',\n",
       " 'below',\n",
       " 'to',\n",
       " 'from',\n",
       " 'up',\n",
       " 'down',\n",
       " 'in',\n",
       " 'out',\n",
       " 'on',\n",
       " 'off',\n",
       " 'over',\n",
       " 'under',\n",
       " 'again',\n",
       " 'further',\n",
       " 'then',\n",
       " 'once',\n",
       " 'here',\n",
       " 'there',\n",
       " 'when',\n",
       " 'where',\n",
       " 'why',\n",
       " 'how',\n",
       " 'all',\n",
       " 'any',\n",
       " 'both',\n",
       " 'each',\n",
       " 'few',\n",
       " 'more',\n",
       " 'most',\n",
       " 'other',\n",
       " 'some',\n",
       " 'such',\n",
       " 'no',\n",
       " 'nor',\n",
       " 'not',\n",
       " 'only',\n",
       " 'own',\n",
       " 'same',\n",
       " 'so',\n",
       " 'than',\n",
       " 'too',\n",
       " 'very',\n",
       " 's',\n",
       " 't',\n",
       " 'can',\n",
       " 'will',\n",
       " 'just',\n",
       " 'don',\n",
       " \"don't\",\n",
       " 'should',\n",
       " \"should've\",\n",
       " 'now',\n",
       " 'd',\n",
       " 'll',\n",
       " 'm',\n",
       " 'o',\n",
       " 're',\n",
       " 've',\n",
       " 'y',\n",
       " 'ain',\n",
       " 'aren',\n",
       " \"aren't\",\n",
       " 'couldn',\n",
       " \"couldn't\",\n",
       " 'didn',\n",
       " \"didn't\",\n",
       " 'doesn',\n",
       " \"doesn't\",\n",
       " 'hadn',\n",
       " \"hadn't\",\n",
       " 'hasn',\n",
       " \"hasn't\",\n",
       " 'haven',\n",
       " \"haven't\",\n",
       " 'isn',\n",
       " \"isn't\",\n",
       " 'ma',\n",
       " 'mightn',\n",
       " \"mightn't\",\n",
       " 'mustn',\n",
       " \"mustn't\",\n",
       " 'needn',\n",
       " \"needn't\",\n",
       " 'shan',\n",
       " \"shan't\",\n",
       " 'shouldn',\n",
       " \"shouldn't\",\n",
       " 'wasn',\n",
       " \"wasn't\",\n",
       " 'weren',\n",
       " \"weren't\",\n",
       " 'won',\n",
       " \"won't\",\n",
       " 'wouldn',\n",
       " \"wouldn't\"]"
      ]
     },
     "execution_count": 8,
     "metadata": {},
     "output_type": "execute_result"
    }
   ],
   "source": [
    "#english (Stopwords file)\n",
    "english_file = open('./Data/english', mode='r')\n",
    "english_data = english_file.readlines()\n",
    "english_text = []\n",
    "\n",
    "for i in english_data:\n",
    "    english_text.append(i[:-1])\n",
    "\n",
    "english_text"
   ]
  },
  {
   "cell_type": "code",
   "execution_count": 9,
   "metadata": {
    "ExecuteTime": {
     "end_time": "2020-07-29T11:53:21.146989Z",
     "start_time": "2020-07-29T11:47:27.083337Z"
    },
    "scrolled": true
   },
   "outputs": [
    {
     "data": {
      "text/plain": [
       "<bound method NDFrame.head of          HotelInfo.HotelID       HotelInfo.Name        Author     ReviewID  \\\n",
       "0                   280518  NH Berlin City West       Clara79    UR2592389   \n",
       "1                   280518  NH Berlin City West  BerlinerPooh    UR3015596   \n",
       "2                   280518  NH Berlin City West  amazingthing    UR3456048   \n",
       "3                   280518  NH Berlin City West         Nitus    UR4045777   \n",
       "4                   280518  NH Berlin City West     mattp1874    UR7014779   \n",
       "...                    ...                  ...           ...          ...   \n",
       "1275283              78587          Chablis Inn   tulipslover  UR124992186   \n",
       "1275284              78587          Chablis Inn       Kathi B  UR125442854   \n",
       "1275285              78587          Chablis Inn    Carolynn S  UR125932840   \n",
       "1275286              78587          Chablis Inn    FrankHutch  UR127701764   \n",
       "1275287              78587          Chablis Inn     scoredonu  UR127992624   \n",
       "\n",
       "         Service  Cleanliness  Rooms  Value  Sleep Quality  Location  \\\n",
       "0              3            3      3      4              4         3   \n",
       "1              1            1      0      1              1         1   \n",
       "2              2            4      3      3              4         3   \n",
       "3              4            4      0      5              5         0   \n",
       "4              4            5      4      4              5         5   \n",
       "...          ...          ...    ...    ...            ...       ...   \n",
       "1275283        3            3      3      3              0         0   \n",
       "1275284        4            5      5      4              0         0   \n",
       "1275285        4            5      4      4              0         0   \n",
       "1275286        0            0      0      0              0         0   \n",
       "1275287        2            2      3      3              0         0   \n",
       "\n",
       "         Business service (e.g., internet access)  Check in / front desk  \\\n",
       "0                                               0                      0   \n",
       "1                                               0                      0   \n",
       "2                                               0                      0   \n",
       "3                                               0                      0   \n",
       "4                                               0                      0   \n",
       "...                                           ...                    ...   \n",
       "1275283                                         0                      0   \n",
       "1275284                                         0                      0   \n",
       "1275285                                         0                      0   \n",
       "1275286                                         0                      0   \n",
       "1275287                                         0                      0   \n",
       "\n",
       "         Overall                                   Title  \\\n",
       "0            3.0                       “Loved the Artus”   \n",
       "1            1.0   “A very decent hotel in West Berlin.”   \n",
       "2            3.0                            “Great stay”   \n",
       "3            4.0            “Affordable but very petite”   \n",
       "4            4.0                   “Not quite there yet”   \n",
       "...          ...                                     ...   \n",
       "1275283      3.0                           “Comfortable”   \n",
       "1275284      5.0                   “great value in Napa”   \n",
       "1275285      4.0  “You won't trip over the furniture...”   \n",
       "1275286      4.0   “A clean, welcoming, low-cost option”   \n",
       "1275287      3.0            “Budget Stay in Napa Valley”   \n",
       "\n",
       "                                                   Content  \\\n",
       "0        hotel bit surprise could find review anywhere ...   \n",
       "1        room adequate little drab side noisy main stre...   \n",
       "2        first read review side booking asked quiet dou...   \n",
       "3        one night stay artus hotel berlin hard leave h...   \n",
       "4        stayed hotel night missing finer touch chain t...   \n",
       "...                                                    ...   \n",
       "1275283  hotel cute clean staff nice conveniently locat...   \n",
       "1275284  stay every time napa visiting brother room bar...   \n",
       "1275285  much way furniture room seriously sparse room ...   \n",
       "1275286  surprising alternative many priced accomodatio...   \n",
       "1275287  hotel clearly resort fact motel yes room lot f...   \n",
       "\n",
       "                       Date             AuthorLocation  \n",
       "0        September 22, 2004               Newcastle,UK  \n",
       "1          January 18, 2005             Kigali, Rwanda  \n",
       "2              May 10, 2005                Switzerland  \n",
       "3          October 23, 2005           Willich, Germany  \n",
       "4            March 12, 2007                     London  \n",
       "...                     ...                        ...  \n",
       "1275283   February 21, 2012              San Francisco  \n",
       "1275284       March 1, 2012         North Canton, Ohio  \n",
       "1275285      March 11, 2012  San Francisco, California  \n",
       "1275286      April 11, 2012        Seattle, Washington  \n",
       "1275287      April 16, 2012     Sacramento, California  \n",
       "\n",
       "[1275288 rows x 17 columns]>"
      ]
     },
     "execution_count": 9,
     "metadata": {},
     "output_type": "execute_result"
    }
   ],
   "source": [
    "# Stopwords Removement\n",
    "def clean_review(text):\n",
    "    # 기호문자 제거\n",
    "    review_text = re.sub(\"[^a-zA-Z]\", \" \", text)\n",
    "    # 소문자로 변경 후 분리\n",
    "    word_tokens = review_text.lower().split()\n",
    "    word_tokens = review_text.lower().split() # 없어도 됨\n",
    "    # 표제어 추출하기 위한 함수\n",
    "    le = WordNetLemmatizer()\n",
    "    # english_text 안의 영어 불용어를 집합으로 변환\n",
    "    stop_words = set(english_text)\n",
    "    word_tokens = [le.lemmatize(w) for w in word_tokens if not w in stop_words]\n",
    "    # 토근화된 문장을 하나의 문장으로 변환\n",
    "    cleaned_review = \" \".join(word_tokens)\n",
    "    \n",
    "    # \\W:비문자 \\b:단어 경계(\\w와 \\W의 경계) \\w:문자\n",
    "    # compile 정규표현식을 컴파일 하는 함수\n",
    "    shortword = re.compile(r'\\W*\\b\\w{1,2}\\b')\n",
    "    cleaned_review = shortword.sub('', cleaned_review)\n",
    "    \n",
    "    return cleaned_review\n",
    "\n",
    "# Stopwords Apply Content 열에 clean_review 함수를 통해 apply\n",
    "raw_data['Content'] = raw_data['Content'].apply(clean_review)\n",
    "raw_data.head"
   ]
  },
  {
   "cell_type": "code",
   "execution_count": 10,
   "metadata": {
    "ExecuteTime": {
     "end_time": "2020-07-29T11:54:54.702348Z",
     "start_time": "2020-07-29T11:54:32.285891Z"
    }
   },
   "outputs": [],
   "source": [
    "tokenizer = RegexpTokenizer(r'\\w+')\n",
    "# raw_data의 'Content'열의 타입을 str 형태로 변경\n",
    "raw_data['Content'] = raw_data['Content'].astype('str')\n",
    "# raw_data의 'Content'열의 각 문장들을 단어로 tokenize\n",
    "raw_data[\"Content\"] = raw_data[\"Content\"].apply(tokenizer.tokenize)"
   ]
  },
  {
   "cell_type": "code",
   "execution_count": 11,
   "metadata": {
    "ExecuteTime": {
     "end_time": "2020-07-29T11:55:12.879263Z",
     "start_time": "2020-07-29T11:55:08.827121Z"
    },
    "code_folding": [
     0
    ],
    "scrolled": true
   },
   "outputs": [
    {
     "name": "stdout",
     "output_type": "stream",
     "text": [
      "[list(['hotel', 'bit', 'surprise', 'could', 'find', 'review', 'anywhere', 'however', 'turned', 'entirely', 'pleasant', 'one', 'location', 'great', 'close', 'damn', 'charlottenburg', 'literally', 'next', 'berliner', 'strasse', 'bahn', 'staff', 'excellent', 'willing', 'help', 'bunch', 'english', 'direction', 'good', 'restaurant', 'club', 'hour', 'room', 'huge', 'expected', 'bedroom', 'bathroom', 'got', 'luxurious', 'lounge', 'little', 'kitchen', 'would', 'highly', 'recommend', 'hotel', 'anyone', 'paid', 'twin', 'room', 'pity', 'could', 'stay', 'longer', 'appreciate', 'berlin', 'great', 'hotel'])\n",
      " list(['room', 'adequate', 'little', 'drab', 'side', 'noisy', 'main', 'street', 'front', 'kitchenette', 'removed', 'used', 'area', 'storing', 'luggage', 'shopping', 'underground', 'road', 'another', 'across', 'street', 'take', 'time', 'reach', 'fabulous', 'shop', 'restaurant', 'busy', 'area', 'damm', 'main', 'entrance', 'hotel', 'rather', 'grand', 'adjacent', 'large', 'cafeteria', 'bar', 'area', 'breakfast', 'worth', 'getting', 'staff', 'friendly', 'recommended', 'little', 'italian', 'restaurant', 'minute', 'away', 'served', 'best', 'pizza', 'ever', 'needle', 'say', 'went', 'back'])\n",
      " list(['first', 'read', 'review', 'side', 'booking', 'asked', 'quiet', 'double', 'room', 'got', 'one', 'far', 'away', 'main', 'road', 'noise', 'actually', 'little', 'suite', 'bedroom', 'separate', 'living', 'room', 'got', 'kitchenette', 'well', 'per', 'room', 'night', 'compared', 'hotel', 'berlin', 'quite', 'cheap', 'admit', 'hotel', 'bit', 'track', 'step', 'next', 'metro', 'station', 'take', 'stop', 'famous', 'kurf', 'rstendamm', 'railwaystation', 'zoo', 'hotel', 'staff', 'helpful', 'would', 'definetly', 'book', 'next', 'berlin', 'stay', 'hotel'])\n",
      " ...\n",
      " list(['much', 'way', 'furniture', 'room', 'seriously', 'sparse', 'room', 'bed', 'two', 'night', 'stand', 'small', 'desk', 'chair', 'cabinet', 'hold', 'older', 'model', 'around', 'long', 'lettering', 'remote', 'started', 'fade', 'lamp', 'night', 'stand', 'give', 'much', 'light', 'room', 'dark', 'shutter', 'closed', 'must', 'privacy', 'management', 'made', 'attempt', 'update', 'renovate', 'room', 'budget', 'must', 'small', 'thing', 'updated', 'bathroom', 'sink', 'counter', 'door', 'trim', 'throughout', 'chipped', 'peeled', 'stayed', 'groupon', 'deal', 'purchased', 'return'])\n",
      " list(['surprising', 'alternative', 'many', 'priced', 'accomodations', 'napa', 'perfect', 'place', 'family', 'attentive', 'welcoming', 'staff', 'motel', 'surpassed', 'typical', 'motel', 'standard', 'everything', 'nicely', 'painted', 'clean', 'ship', 'shape', 'looking', 'housekeeping', 'staff', 'great', 'job', 'stayed', 'three', 'night', 'many', 'motel', 'would', 'long', 'time', 'chablis', 'inn', 'regret', 'would', 'stay'])\n",
      " list(['hotel', 'clearly', 'resort', 'fact', 'motel', 'yes', 'room', 'lot', 'furniture', 'yes', 'bed', 'best', 'yes', 'hot', 'tub', 'tiny', 'yes', 'hear', 'people', 'moving', 'upper', 'floor', 'yes', 'analog', 'cable', 'however', 'room', 'clean', 'service', 'good', 'location', 'centralized', 'mention', 'budget', 'hotel', 'one', 'suggestion', 'room', 'allow', 'much', 'light', 'room', 'making', 'difficult', 'sleep', 'invest', 'curtain', 'better', 'blind', 'stayed', 'group', 'special', 'translated', 'two', 'night', 'buck', 'rating', 'everything', 'price', 'save', 'money', 'accommodation', 'mean', 'money', 'spend', 'wine', 'tasting', 'eating'])]\n"
     ]
    },
    {
     "name": "stderr",
     "output_type": "stream",
     "text": [
      "/usr/local/lib/python3.7/dist-packages/ipykernel_launcher.py:1: VisibleDeprecationWarning: Creating an ndarray from ragged nested sequences (which is a list-or-tuple of lists-or-tuples-or ndarrays with different lengths or shapes) is deprecated. If you meant to do this, you must specify 'dtype=object' when creating the ndarray\n",
      "  \"\"\"Entry point for launching an IPython kernel.\n"
     ]
    }
   ],
   "source": [
    "content_list = np.array(raw_data['Content'].tolist())\n",
    "print(content_list)"
   ]
  },
  {
   "cell_type": "markdown",
   "metadata": {},
   "source": [
    "### Data Tokenizing & word_indexing"
   ]
  },
  {
   "cell_type": "code",
   "execution_count": 12,
   "metadata": {
    "ExecuteTime": {
     "end_time": "2020-07-29T11:56:50.738685Z",
     "start_time": "2020-07-29T11:55:27.156421Z"
    },
    "scrolled": true
   },
   "outputs": [
    {
     "name": "stdout",
     "output_type": "stream",
     "text": [
      "[list([2, 81, 753, 28, 103, 88, 466, 97, 593, 2810, 277, 9, 14, 3, 64, 4989, 15450, 781, 52, 12302, 9472, 2841, 6, 59, 1076, 272, 2038, 443, 581, 8, 23, 284, 95, 1, 197, 387, 233, 31, 46, 901, 329, 47, 364, 5, 290, 61, 2, 310, 246, 933, 1, 3923, 28, 4, 795, 1579, 1339, 3, 2])\n",
      " list([1, 546, 47, 4179, 150, 386, 204, 60, 44, 1310, 1763, 192, 24, 4099, 335, 223, 1251, 347, 121, 206, 60, 84, 10, 1248, 506, 205, 23, 333, 24, 7154, 204, 570, 2, 393, 314, 1315, 77, 3954, 50, 24, 17, 190, 258, 6, 32, 552, 47, 709, 23, 40, 66, 538, 62, 888, 180, 1225, 101, 72, 30])\n",
      " list([48, 343, 88, 150, 379, 137, 110, 275, 1, 46, 9, 199, 66, 204, 347, 131, 294, 47, 93, 233, 531, 539, 1, 46, 1310, 26, 239, 1, 7, 731, 2, 1339, 99, 357, 1876, 2, 81, 2075, 496, 52, 225, 132, 84, 229, 1585, 13598, 14546, 31202, 1582, 2, 6, 39, 5, 2650, 295, 52, 1339, 4, 2])\n",
      " ...\n",
      " list([45, 68, 569, 1, 1534, 4260, 1, 19, 38, 7, 856, 29, 42, 292, 2474, 1164, 702, 4096, 53, 134, 33157, 1509, 813, 12573, 1414, 7, 856, 263, 45, 304, 1, 543, 3154, 561, 319, 1413, 671, 83, 1973, 2094, 5967, 1, 580, 319, 29, 63, 1006, 31, 481, 978, 65, 6871, 607, 3263, 9733, 13, 7572, 238, 1867, 214])\n",
      " list([2926, 1665, 70, 510, 1722, 1591, 126, 22, 123, 732, 777, 6, 787, 4807, 796, 787, 213, 76, 554, 2448, 16, 1457, 1693, 162, 358, 6, 3, 611, 13, 230, 7, 70, 787, 5, 134, 10, 13047, 346, 1942, 5, 4])\n",
      " list([2, 1096, 55, 382, 787, 373, 1, 56, 569, 373, 19, 62, 373, 151, 306, 444, 373, 338, 54, 1479, 1419, 35, 373, 10815, 947, 97, 1, 16, 18, 8, 14, 8650, 762, 580, 2, 9, 1210, 1, 1445, 45, 304, 1, 437, 809, 226, 5061, 801, 86, 2072, 13, 467, 316, 11555, 38, 7, 1345, 1039, 76, 51, 839, 153, 875, 585, 153, 371, 378, 2131, 721])]\n",
      "(1275288,)\n",
      "[[3 3 4 4 3 3]\n",
      " [1 1 1 1 0 1]\n",
      " [2 4 3 4 3 3]\n",
      " ...\n",
      " [4 5 4 0 4 0]\n",
      " [0 0 0 0 0 0]\n",
      " [2 2 3 0 3 0]]\n",
      "(1275288, 6)\n"
     ]
    },
    {
     "name": "stderr",
     "output_type": "stream",
     "text": [
      "/usr/local/lib/python3.7/dist-packages/ipykernel_launcher.py:4: VisibleDeprecationWarning: Creating an ndarray from ragged nested sequences (which is a list-or-tuple of lists-or-tuples-or ndarrays with different lengths or shapes) is deprecated. If you meant to do this, you must specify 'dtype=object' when creating the ndarray\n",
      "  after removing the cwd from sys.path.\n"
     ]
    }
   ],
   "source": [
    "tokenizer = Tokenizer()\n",
    "tokenizer.fit_on_texts(content_list)\n",
    "\n",
    "ipc_Xdata = np.array(tokenizer.texts_to_sequences(content_list))\n",
    "\n",
    "print(ipc_Xdata)\n",
    "print(ipc_Xdata.shape)\n",
    "\n",
    "ipc_Ydata = np.array(raw_data[['Service', 'Cleanliness','Value',\n",
    "                               'Sleep Quality','Rooms','Location']])\n",
    "print(ipc_Ydata)\n",
    "print(ipc_Ydata.shape)"
   ]
  },
  {
   "cell_type": "markdown",
   "metadata": {},
   "source": [
    "### Data Split & Get maxlen and max_features"
   ]
  },
  {
   "cell_type": "code",
   "execution_count": 13,
   "metadata": {
    "ExecuteTime": {
     "end_time": "2020-07-29T11:57:35.608733Z",
     "start_time": "2020-07-29T11:57:35.428562Z"
    }
   },
   "outputs": [
    {
     "name": "stdout",
     "output_type": "stream",
     "text": [
      "(892701,) (382587,) (892701, 6) (382587, 6)\n"
     ]
    }
   ],
   "source": [
    "train_x, test_x, train_y, test_y = train_test_split(ipc_Xdata, ipc_Ydata, \n",
    "                                                    test_size=0.3)\n",
    "print(train_x.shape, test_x.shape, train_y.shape, test_y.shape)"
   ]
  },
  {
   "cell_type": "code",
   "execution_count": 14,
   "metadata": {
    "ExecuteTime": {
     "end_time": "2020-07-29T11:57:48.172655Z",
     "start_time": "2020-07-29T11:57:37.383215Z"
    }
   },
   "outputs": [
    {
     "name": "stdout",
     "output_type": "stream",
     "text": [
      "2654\n",
      "263169\n"
     ]
    }
   ],
   "source": [
    "# 최대 길이 및 최대 feature 값 구하기\n",
    "maxlen = 1\n",
    "max_features = 1\n",
    "for idx in ipc_Xdata :\n",
    "    try :\n",
    "        len_ = len(idx) #print(idx)\n",
    "        max_ = np.max(idx)\n",
    "    except :\n",
    "        #print(idx)\n",
    "        continue\n",
    "    #print(type(max_))\n",
    "    #break\n",
    "    if max_features < max_ :\n",
    "        max_features = max_\n",
    "    if maxlen < len_ :\n",
    "        maxlen = len_\n",
    "print(maxlen)\n",
    "print(max_features)"
   ]
  },
  {
   "cell_type": "markdown",
   "metadata": {
    "ExecuteTime": {
     "end_time": "2020-07-24T05:51:33.419252Z",
     "start_time": "2020-07-24T05:51:33.381734Z"
    }
   },
   "source": [
    "### Model building"
   ]
  },
  {
   "cell_type": "markdown",
   "metadata": {},
   "source": [
    "#### Padding"
   ]
  },
  {
   "cell_type": "code",
   "execution_count": 15,
   "metadata": {
    "ExecuteTime": {
     "end_time": "2020-07-29T11:58:12.645059Z",
     "start_time": "2020-07-29T11:58:00.063784Z"
    }
   },
   "outputs": [
    {
     "name": "stdout",
     "output_type": "stream",
     "text": [
      "Loading data...\n",
      "892701 train sequences\n",
      "382587 test sequences\n",
      "(892701,) (382587,) (892701, 6) (382587, 6)\n",
      "Pad sequences (samples x time)\n",
      "train_x shape: (892701, 2654)\n",
      "test_x shape: (382587, 2654)\n"
     ]
    }
   ],
   "source": [
    "print('Loading data...')\n",
    "\n",
    "print(len(train_x), 'train sequences')\n",
    "print(len(test_x), 'test sequences')\n",
    "\n",
    "print(train_x.shape, test_x.shape, train_y.shape, test_y.shape)\n",
    "\n",
    "print('Pad sequences (samples x time)')\n",
    "\n",
    "ipc_Xdata = sequence.pad_sequences(ipc_Xdata, maxlen=maxlen)\n",
    "\n",
    "train_x, test_x, train_y, test_y = train_test_split(ipc_Xdata, ipc_Ydata, \n",
    "                                                    test_size=0.3)\n",
    "# print(train_x.shape, test_x.shape, train_y.shape, test_y.shape)\n",
    "# train_x = sequence.pad_sequences(train_x, maxlen=maxlen)\n",
    "# test_x = sequence.pad_sequences(test_x, maxlen=maxlen)\n",
    "\n",
    "print('train_x shape:', train_x.shape)\n",
    "print('test_x shape:', test_x.shape)\n"
   ]
  },
  {
   "cell_type": "markdown",
   "metadata": {},
   "source": [
    "#### variables setting"
   ]
  },
  {
   "cell_type": "code",
   "execution_count": 16,
   "metadata": {
    "ExecuteTime": {
     "end_time": "2020-07-29T11:58:22.379186Z",
     "start_time": "2020-07-29T11:58:22.374386Z"
    }
   },
   "outputs": [],
   "source": [
    "# Embedding\n",
    "max_features = max_features+1 # feature 값 변경\n",
    "# maxlen = 2670 # 리뷰의 길이\n",
    "embedding_size = 256\n",
    "\n",
    "# Convolution\n",
    "kernel_size = 5 # 1\n",
    "filters = 256 # 256\n",
    "pool_size = 4\n",
    "\n",
    "# LSTM\n",
    "lstm_output_size = 10\n",
    "\n",
    "# Training\n",
    "batch_size = 1000 # 310 #30 -> 20\n",
    "epochs = 100"
   ]
  },
  {
   "cell_type": "markdown",
   "metadata": {},
   "source": [
    "#### Model Building"
   ]
  },
  {
   "cell_type": "code",
   "execution_count": 8,
   "metadata": {
    "ExecuteTime": {
     "end_time": "2020-07-29T14:21:54.348086Z",
     "start_time": "2020-07-29T14:21:54.332992Z"
    }
   },
   "outputs": [
    {
     "name": "stdout",
     "output_type": "stream",
     "text": [
      "Build model...\n"
     ]
    },
    {
     "ename": "NameError",
     "evalue": "name 'maxlen' is not defined",
     "output_type": "error",
     "traceback": [
      "\u001b[0;31m-----------------------------------------------------\u001b[0m",
      "\u001b[0;31mNameError\u001b[0m           Traceback (most recent call last)",
      "\u001b[0;32m<ipython-input-8-395140ea4a23>\u001b[0m in \u001b[0;36m<module>\u001b[0;34m\u001b[0m\n\u001b[1;32m      1\u001b[0m \u001b[0mprint\u001b[0m\u001b[0;34m(\u001b[0m\u001b[0;34m'Build model...'\u001b[0m\u001b[0;34m)\u001b[0m\u001b[0;34m\u001b[0m\u001b[0;34m\u001b[0m\u001b[0m\n\u001b[1;32m      2\u001b[0m \u001b[0;31m#model = Sequential()\u001b[0m\u001b[0;34m\u001b[0m\u001b[0;34m\u001b[0m\u001b[0;34m\u001b[0m\u001b[0m\n\u001b[0;32m----> 3\u001b[0;31m \u001b[0minput_layer\u001b[0m \u001b[0;34m=\u001b[0m \u001b[0mlayers\u001b[0m\u001b[0;34m.\u001b[0m\u001b[0mInput\u001b[0m\u001b[0;34m(\u001b[0m\u001b[0;34m(\u001b[0m\u001b[0mmaxlen\u001b[0m\u001b[0;34m,\u001b[0m\u001b[0;34m)\u001b[0m\u001b[0;34m)\u001b[0m\u001b[0;34m\u001b[0m\u001b[0;34m\u001b[0m\u001b[0m\n\u001b[0m\u001b[1;32m      4\u001b[0m \u001b[0;34m\u001b[0m\u001b[0m\n\u001b[1;32m      5\u001b[0m \u001b[0membedding_layer\u001b[0m \u001b[0;34m=\u001b[0m \u001b[0mlayers\u001b[0m\u001b[0;34m.\u001b[0m\u001b[0mEmbedding\u001b[0m\u001b[0;34m(\u001b[0m\u001b[0mmax_features\u001b[0m\u001b[0;34m,\u001b[0m \u001b[0membedding_size\u001b[0m\u001b[0;34m)\u001b[0m\u001b[0;34m(\u001b[0m\u001b[0minput_layer\u001b[0m\u001b[0;34m)\u001b[0m\u001b[0;34m\u001b[0m\u001b[0;34m\u001b[0m\u001b[0m\n",
      "\u001b[0;31mNameError\u001b[0m: name 'maxlen' is not defined"
     ]
    }
   ],
   "source": [
    "print('Build model...')\n",
    "#model = Sequential()\n",
    "input_layer = layers.Input((maxlen,))\n",
    "\n",
    "embedding_layer = layers.Embedding(max_features, embedding_size)(input_layer)\n",
    "\n",
    "convolution_layer = layers.Conv1D(256, 5, padding = 'valid',\n",
    "                                 activation='relu', strides=1)(embedding_layer)\n",
    "maxpooling_layer = layers.MaxPooling1D(pool_size)(convolution_layer)\n",
    "\n",
    "convolution_layer2 = layers.Conv1D(128, 4, padding = 'valid',\n",
    "                                 activation='relu', strides=1)(maxpooling_layer)\n",
    "maxpooling_layer2 = layers.MaxPooling1D(pool_size)(convolution_layer2)\n",
    "\n",
    "convolution_layer3 = layers.Conv1D(64, 3, padding = 'valid',\n",
    "                                 activation='relu', strides=1)(maxpooling_layer2)\n",
    "maxpooling_layer3 = layers.MaxPooling1D(pool_size)(convolution_layer3)\n",
    "\n",
    "lstm_layer = layers.Bidirectional(layers.CuDNNLSTM(32,return_sequences=True))(maxpooling_layer3)\n",
    "\n",
    "#lstm_layer = layers.CuDNNLSTM(64,return_sequences=True)(maxpooling_layer3)\n",
    "\n",
    "dropout_layer = layers.Dropout(0.25)(lstm_layer) \n",
    "\n",
    "flatten_layer = layers.Flatten()(dropout_layer)\n",
    "\n",
    "output_layer1 = layers.Dense(1, activation = 'sigmoid')(flatten_layer)\n",
    "output_layer2 = layers.Dense(1, activation = 'sigmoid')(flatten_layer)\n",
    "output_layer3 = layers.Dense(1, activation = 'sigmoid')(flatten_layer)\n",
    "output_layer4 = layers.Dense(1, activation = 'sigmoid')(flatten_layer)\n",
    "output_layer5 = layers.Dense(1, activation = 'sigmoid')(flatten_layer)\n",
    "output_layer6 = layers.Dense(1, activation = 'sigmoid')(flatten_layer)\n",
    "\n",
    "model = models.Model(inputs=input_layer, outputs=\n",
    "                     [output_layer1, output_layer2, output_layer3, output_layer4,\n",
    "                      output_layer5, output_layer6])\n",
    "model.summary()\n",
    "\n",
    "model.compile(loss='mse', optimizer='rmsprop',metrics=['accuracy'])"
   ]
  },
  {
   "cell_type": "markdown",
   "metadata": {},
   "source": [
    "#### Train"
   ]
  },
  {
   "cell_type": "code",
   "execution_count": 3,
   "metadata": {
    "ExecuteTime": {
     "end_time": "2020-07-29T14:20:41.228064Z",
     "start_time": "2020-07-29T14:20:41.050054Z"
    },
    "scrolled": true
   },
   "outputs": [
    {
     "ename": "NameError",
     "evalue": "name 'model' is not defined",
     "output_type": "error",
     "traceback": [
      "\u001b[0;31m-----------------------------------------------------\u001b[0m",
      "\u001b[0;31mNameError\u001b[0m           Traceback (most recent call last)",
      "\u001b[0;32m<ipython-input-3-e9a31f4ddcd0>\u001b[0m in \u001b[0;36m<module>\u001b[0;34m\u001b[0m\n\u001b[1;32m      1\u001b[0m \u001b[0;31m#with K.tf.device('/gpu:0'):\u001b[0m\u001b[0;34m\u001b[0m\u001b[0;34m\u001b[0m\u001b[0;34m\u001b[0m\u001b[0m\n\u001b[0;32m----> 2\u001b[0;31m \u001b[0mmodel\u001b[0m \u001b[0;34m=\u001b[0m \u001b[0mmulti_gpu_model\u001b[0m\u001b[0;34m(\u001b[0m\u001b[0mmodel\u001b[0m\u001b[0;34m,\u001b[0m \u001b[0mgpus\u001b[0m\u001b[0;34m=\u001b[0m\u001b[0;36m2\u001b[0m\u001b[0;34m)\u001b[0m\u001b[0;34m\u001b[0m\u001b[0;34m\u001b[0m\u001b[0m\n\u001b[0m\u001b[1;32m      3\u001b[0m \u001b[0mprint\u001b[0m\u001b[0;34m(\u001b[0m\u001b[0;34m'Train...'\u001b[0m\u001b[0;34m)\u001b[0m\u001b[0;34m\u001b[0m\u001b[0;34m\u001b[0m\u001b[0m\n\u001b[1;32m      4\u001b[0m hist = model.fit(train_x, [train_y[:,0]/5, train_y[:,1]/5, \n\u001b[1;32m      5\u001b[0m                            \u001b[0mtrain_y\u001b[0m\u001b[0;34m[\u001b[0m\u001b[0;34m:\u001b[0m\u001b[0;34m,\u001b[0m\u001b[0;36m2\u001b[0m\u001b[0;34m]\u001b[0m\u001b[0;34m/\u001b[0m\u001b[0;36m5\u001b[0m\u001b[0;34m,\u001b[0m \u001b[0mtrain_y\u001b[0m\u001b[0;34m[\u001b[0m\u001b[0;34m:\u001b[0m\u001b[0;34m,\u001b[0m\u001b[0;36m3\u001b[0m\u001b[0;34m]\u001b[0m\u001b[0;34m/\u001b[0m\u001b[0;36m5\u001b[0m\u001b[0;34m,\u001b[0m\u001b[0;34m\u001b[0m\u001b[0;34m\u001b[0m\u001b[0m\n",
      "\u001b[0;31mNameError\u001b[0m: name 'model' is not defined"
     ]
    }
   ],
   "source": [
    "try:\n",
    "    model = multi_gpu_model(model, gpus=2)\n",
    "    print('Train...')\n",
    "    hist = model.fit(train_x, [train_y[:,0]/5, train_y[:,1]/5, \n",
    "                               train_y[:,2]/5, train_y[:,3]/5, \n",
    "                               train_y[:,4]/5, train_y[:,5]/5],\n",
    "                     batch_size=batch_size,\n",
    "                     epochs=epochs)\n",
    "\n",
    "    # score, acc = model.evaluate(test_x, test_y[:,0:6], \n",
    "    #                             batch_size=batch_size)\n",
    "\n",
    "    score = model.evaluate(test_x, [test_y[:,0]/5, test_y[:,1]/5,\n",
    "                                     test_y[:,2]/5, test_y[:,3]/5,\n",
    "                                     test_y[:,4]/5, test_y[:,5]/5], \n",
    "                            batch_size = batch_size)\n",
    "\n",
    "    predicted = model.predict(test_x)\n",
    "    print('predicted : ',predicted)\n",
    "    predicted2 = model.predict(ipc_Xdata)\n",
    "    #print('Test score:', score)\n",
    "    #print('Test accuracy:', acc)\n",
    "except:\n",
    "    with K.tf.device('/gpu:0'):\n",
    "        print('Train...')\n",
    "        hist = model.fit(train_x, [train_y[:,0]/5, train_y[:,1]/5, \n",
    "                                   train_y[:,2]/5, train_y[:,3]/5, \n",
    "                                   train_y[:,4]/5, train_y[:,5]/5],\n",
    "                         batch_size=batch_size,\n",
    "                         epochs=epochs)\n",
    "\n",
    "        # score, acc = model.evaluate(test_x, test_y[:,0:6], \n",
    "        #                             batch_size=batch_size)\n",
    "\n",
    "        score = model.evaluate(test_x, [test_y[:,0]/5, test_y[:,1]/5,\n",
    "                                         test_y[:,2]/5, test_y[:,3]/5,\n",
    "                                         test_y[:,4]/5, test_y[:,5]/5], \n",
    "                                batch_size = batch_size)\n",
    "\n",
    "        predicted = model.predict(test_x)\n",
    "        print('predicted : ',predicted)\n",
    "        predicted2 = model.predict(ipc_Xdata)\n",
    "        #print('Test score:', score)\n",
    "        #print('Test accuracy:', acc)"
   ]
  },
  {
   "cell_type": "code",
   "execution_count": 98,
   "metadata": {
    "ExecuteTime": {
     "end_time": "2020-07-29T13:08:54.674386Z",
     "start_time": "2020-07-29T13:08:54.646643Z"
    },
    "scrolled": true
   },
   "outputs": [
    {
     "name": "stdout",
     "output_type": "stream",
     "text": [
      "382587\n",
      "6\n",
      "(6, 1275288, 1)\n",
      "[[[0.6803021 ]\n",
      "  [0.7231426 ]\n",
      "  [0.69011855]\n",
      "  ...\n",
      "  [0.5843144 ]\n",
      "  [0.7246235 ]\n",
      "  [0.6118517 ]]\n",
      "\n",
      " [[0.7072035 ]\n",
      "  [0.7487986 ]\n",
      "  [0.717008  ]\n",
      "  ...\n",
      "  [0.6055726 ]\n",
      "  [0.75017154]\n",
      "  [0.6349615 ]]\n",
      "\n",
      " [[0.6667578 ]\n",
      "  [0.697686  ]\n",
      "  [0.6736307 ]\n",
      "  ...\n",
      "  [0.5890348 ]\n",
      "  [0.6988027 ]\n",
      "  [0.6118171 ]]\n",
      "\n",
      " [[0.33349645]\n",
      "  [0.36442733]\n",
      "  [0.34100583]\n",
      "  ...\n",
      "  [0.27507845]\n",
      "  [0.36562064]\n",
      "  [0.2928089 ]]\n",
      "\n",
      " [[0.59435093]\n",
      "  [0.63623214]\n",
      "  [0.60390544]\n",
      "  ...\n",
      "  [0.49577677]\n",
      "  [0.6376012 ]\n",
      "  [0.5240173 ]]\n",
      "\n",
      " [[0.6336271 ]\n",
      "  [0.6583353 ]\n",
      "  [0.6386699 ]\n",
      "  ...\n",
      "  [0.5871757 ]\n",
      "  [0.65917116]\n",
      "  [0.60093206]]]\n",
      "(1275288, 6)\n",
      "times 5\n",
      "(1275288, 6)\n",
      "[[3 4 3 2 3 3]\n",
      " [4 4 3 2 3 3]\n",
      " [3 4 3 2 3 3]\n",
      " ...\n",
      " [3 3 3 1 2 3]\n",
      " [4 4 3 2 3 3]\n",
      " [3 3 3 1 3 3]]\n"
     ]
    }
   ],
   "source": [
    "print(len(test_x))\n",
    "print(len(predicted))\n",
    "arr_predicted = np.array(predicted2)\n",
    "print(arr_predicted.shape)\n",
    "print(arr_predicted)\n",
    "\n",
    "arr = np.squeeze(arr_predicted, 2)\n",
    "arr = np.transpose(arr)\n",
    "print(arr.shape)\n",
    "print('times 5')\n",
    "# print(arr)\n",
    "arr = arr * 5\n",
    "arr = np.rint(arr)\n",
    "arr = arr.astype('int64')\n",
    "print(arr.shape)\n",
    "print(arr)"
   ]
  },
  {
   "cell_type": "code",
   "execution_count": 99,
   "metadata": {
    "ExecuteTime": {
     "end_time": "2020-07-29T13:08:55.713214Z",
     "start_time": "2020-07-29T13:08:55.709814Z"
    }
   },
   "outputs": [
    {
     "name": "stdout",
     "output_type": "stream",
     "text": [
      "0          280518\n",
      "1          280518\n",
      "2          280518\n",
      "3          280518\n",
      "4          280518\n",
      "            ...  \n",
      "1275283     78587\n",
      "1275284     78587\n",
      "1275285     78587\n",
      "1275286     78587\n",
      "1275287     78587\n",
      "Name: HotelInfo.HotelID, Length: 1275288, dtype: int64\n"
     ]
    }
   ],
   "source": [
    "print(raw_data['HotelInfo.HotelID'])"
   ]
  },
  {
   "cell_type": "code",
   "execution_count": 100,
   "metadata": {
    "ExecuteTime": {
     "end_time": "2020-07-29T13:08:56.929232Z",
     "start_time": "2020-07-29T13:08:56.912093Z"
    }
   },
   "outputs": [
    {
     "name": "stdout",
     "output_type": "stream",
     "text": [
      "<class 'pandas.core.frame.DataFrame'>\n",
      "   HotelID  Service  Cleanliness  Rooms  Value  Sleep Quality  Location\n",
      "0   280518        3            4      3      2              3         3\n",
      "1   280518        4            4      3      2              3         3\n",
      "2   280518        3            4      3      2              3         3\n",
      "3   280518        4            4      4      2              3         4\n",
      "4   280518        4            4      4      2              3         3\n"
     ]
    }
   ],
   "source": [
    "criteria_df = pd.DataFrame(arr)\n",
    "IPC = pd.concat([raw_data['HotelInfo.HotelID'], criteria_df], axis=1)\n",
    "#IPC = IPC.set_index('HotelInfo.HotelID')\n",
    "print(type(IPC))\n",
    "IPC.columns = ['HotelID','Service', 'Cleanliness', 'Rooms', 'Value','Sleep Quality', 'Location']\n",
    "print(IPC.head())"
   ]
  },
  {
   "cell_type": "code",
   "execution_count": 101,
   "metadata": {
    "ExecuteTime": {
     "end_time": "2020-07-29T13:08:58.531369Z",
     "start_time": "2020-07-29T13:08:58.368104Z"
    }
   },
   "outputs": [
    {
     "name": "stdout",
     "output_type": "stream",
     "text": [
      "         Service  Cleanliness  Rooms  Value  Sleep Quality  Location\n",
      "HotelID                                                             \n",
      "72572        4.0          4.0    3.0    2.0            3.0       3.0\n",
      "72579        4.0          4.0    3.0    2.0            3.0       3.0\n",
      "72586        4.0          4.0    3.0    2.0            3.0       3.0\n",
      "72598        4.0          4.0    3.0    2.0            3.0       3.0\n",
      "73393        4.0          4.0    3.0    2.0            3.0       3.0\n",
      "...          ...          ...    ...    ...            ...       ...\n",
      "2516241      4.0          4.0    4.0    2.0            3.0       3.0\n",
      "2516242      4.0          4.0    4.0    2.0            3.0       3.0\n",
      "2516243      4.0          4.0    4.0    2.0            3.0       3.0\n",
      "2516244      4.0          4.0    4.0    2.0            3.0       3.0\n",
      "2520289      4.0          4.0    3.0    2.0            3.0       3.0\n",
      "\n",
      "[7584 rows x 6 columns]\n"
     ]
    }
   ],
   "source": [
    "IPC = round(IPC.groupby(['HotelID'], as_index=True).mean())\n",
    "print(IPC)"
   ]
  },
  {
   "cell_type": "markdown",
   "metadata": {},
   "source": [
    "## UPC"
   ]
  },
  {
   "cell_type": "code",
   "execution_count": 106,
   "metadata": {
    "ExecuteTime": {
     "end_time": "2020-07-29T13:17:48.495536Z",
     "start_time": "2020-07-29T13:17:48.416141Z"
    }
   },
   "outputs": [
    {
     "name": "stdout",
     "output_type": "stream",
     "text": [
      "               Author  0  1  2  3  4  5  Overall\n",
      "0             Clara79  3  4  3  2  3  3      3.0\n",
      "1        BerlinerPooh  4  4  3  2  3  3      1.0\n",
      "2        amazingthing  3  4  3  2  3  3      3.0\n",
      "3               Nitus  4  4  4  2  3  4      4.0\n",
      "4           mattp1874  4  4  4  2  3  3      4.0\n",
      "...               ... .. .. .. .. .. ..      ...\n",
      "1275283   tulipslover  4  4  3  2  3  3      3.0\n",
      "1275284       Kathi B  4  4  3  2  3  3      5.0\n",
      "1275285    Carolynn S  3  3  3  1  2  3      4.0\n",
      "1275286    FrankHutch  4  4  3  2  3  3      4.0\n",
      "1275287     scoredonu  3  3  3  1  3  3      3.0\n",
      "\n",
      "[1275288 rows x 8 columns]\n"
     ]
    }
   ],
   "source": [
    "dnn_input_data = pd.concat([raw_data['Author'],criteria_df,raw_data['Overall']],axis=1)\n",
    "print(dnn_input_data)"
   ]
  },
  {
   "cell_type": "code",
   "execution_count": 109,
   "metadata": {
    "ExecuteTime": {
     "end_time": "2020-07-29T13:27:26.218513Z",
     "start_time": "2020-07-29T13:27:26.209770Z"
    }
   },
   "outputs": [
    {
     "data": {
      "text/html": [
       "<div>\n",
       "<style scoped>\n",
       "    .dataframe tbody tr th:only-of-type {\n",
       "        vertical-align: middle;\n",
       "    }\n",
       "\n",
       "    .dataframe tbody tr th {\n",
       "        vertical-align: top;\n",
       "    }\n",
       "\n",
       "    .dataframe thead th {\n",
       "        text-align: right;\n",
       "    }\n",
       "</style>\n",
       "<table border=\"1\" class=\"dataframe\">\n",
       "  <thead>\n",
       "    <tr style=\"text-align: right;\">\n",
       "      <th></th>\n",
       "      <th>Author</th>\n",
       "      <th>0</th>\n",
       "      <th>1</th>\n",
       "      <th>2</th>\n",
       "      <th>3</th>\n",
       "      <th>4</th>\n",
       "      <th>5</th>\n",
       "      <th>Overall</th>\n",
       "    </tr>\n",
       "  </thead>\n",
       "  <tbody>\n",
       "    <tr>\n",
       "      <th>0</th>\n",
       "      <td>Clara79</td>\n",
       "      <td>3</td>\n",
       "      <td>4</td>\n",
       "      <td>3</td>\n",
       "      <td>2</td>\n",
       "      <td>3</td>\n",
       "      <td>3</td>\n",
       "      <td>3.0</td>\n",
       "    </tr>\n",
       "    <tr>\n",
       "      <th>1</th>\n",
       "      <td>BerlinerPooh</td>\n",
       "      <td>4</td>\n",
       "      <td>4</td>\n",
       "      <td>3</td>\n",
       "      <td>2</td>\n",
       "      <td>3</td>\n",
       "      <td>3</td>\n",
       "      <td>1.0</td>\n",
       "    </tr>\n",
       "    <tr>\n",
       "      <th>2</th>\n",
       "      <td>amazingthing</td>\n",
       "      <td>3</td>\n",
       "      <td>4</td>\n",
       "      <td>3</td>\n",
       "      <td>2</td>\n",
       "      <td>3</td>\n",
       "      <td>3</td>\n",
       "      <td>3.0</td>\n",
       "    </tr>\n",
       "    <tr>\n",
       "      <th>3</th>\n",
       "      <td>Nitus</td>\n",
       "      <td>4</td>\n",
       "      <td>4</td>\n",
       "      <td>4</td>\n",
       "      <td>2</td>\n",
       "      <td>3</td>\n",
       "      <td>4</td>\n",
       "      <td>4.0</td>\n",
       "    </tr>\n",
       "    <tr>\n",
       "      <th>4</th>\n",
       "      <td>mattp1874</td>\n",
       "      <td>4</td>\n",
       "      <td>4</td>\n",
       "      <td>4</td>\n",
       "      <td>2</td>\n",
       "      <td>3</td>\n",
       "      <td>3</td>\n",
       "      <td>4.0</td>\n",
       "    </tr>\n",
       "    <tr>\n",
       "      <th>...</th>\n",
       "      <td>...</td>\n",
       "      <td>...</td>\n",
       "      <td>...</td>\n",
       "      <td>...</td>\n",
       "      <td>...</td>\n",
       "      <td>...</td>\n",
       "      <td>...</td>\n",
       "      <td>...</td>\n",
       "    </tr>\n",
       "    <tr>\n",
       "      <th>1275283</th>\n",
       "      <td>tulipslover</td>\n",
       "      <td>4</td>\n",
       "      <td>4</td>\n",
       "      <td>3</td>\n",
       "      <td>2</td>\n",
       "      <td>3</td>\n",
       "      <td>3</td>\n",
       "      <td>3.0</td>\n",
       "    </tr>\n",
       "    <tr>\n",
       "      <th>1275284</th>\n",
       "      <td>Kathi B</td>\n",
       "      <td>4</td>\n",
       "      <td>4</td>\n",
       "      <td>3</td>\n",
       "      <td>2</td>\n",
       "      <td>3</td>\n",
       "      <td>3</td>\n",
       "      <td>5.0</td>\n",
       "    </tr>\n",
       "    <tr>\n",
       "      <th>1275285</th>\n",
       "      <td>Carolynn S</td>\n",
       "      <td>3</td>\n",
       "      <td>3</td>\n",
       "      <td>3</td>\n",
       "      <td>1</td>\n",
       "      <td>2</td>\n",
       "      <td>3</td>\n",
       "      <td>4.0</td>\n",
       "    </tr>\n",
       "    <tr>\n",
       "      <th>1275286</th>\n",
       "      <td>FrankHutch</td>\n",
       "      <td>4</td>\n",
       "      <td>4</td>\n",
       "      <td>3</td>\n",
       "      <td>2</td>\n",
       "      <td>3</td>\n",
       "      <td>3</td>\n",
       "      <td>4.0</td>\n",
       "    </tr>\n",
       "    <tr>\n",
       "      <th>1275287</th>\n",
       "      <td>scoredonu</td>\n",
       "      <td>3</td>\n",
       "      <td>3</td>\n",
       "      <td>3</td>\n",
       "      <td>1</td>\n",
       "      <td>3</td>\n",
       "      <td>3</td>\n",
       "      <td>3.0</td>\n",
       "    </tr>\n",
       "  </tbody>\n",
       "</table>\n",
       "<p>1275288 rows × 8 columns</p>\n",
       "</div>"
      ],
      "text/plain": [
       "               Author  0  1  2  3  4  5  Overall\n",
       "0             Clara79  3  4  3  2  3  3      3.0\n",
       "1        BerlinerPooh  4  4  3  2  3  3      1.0\n",
       "2        amazingthing  3  4  3  2  3  3      3.0\n",
       "3               Nitus  4  4  4  2  3  4      4.0\n",
       "4           mattp1874  4  4  4  2  3  3      4.0\n",
       "...               ... .. .. .. .. .. ..      ...\n",
       "1275283   tulipslover  4  4  3  2  3  3      3.0\n",
       "1275284       Kathi B  4  4  3  2  3  3      5.0\n",
       "1275285    Carolynn S  3  3  3  1  2  3      4.0\n",
       "1275286    FrankHutch  4  4  3  2  3  3      4.0\n",
       "1275287     scoredonu  3  3  3  1  3  3      3.0\n",
       "\n",
       "[1275288 rows x 8 columns]"
      ]
     },
     "execution_count": 109,
     "metadata": {},
     "output_type": "execute_result"
    }
   ],
   "source": [
    "dnn_input_data"
   ]
  },
  {
   "cell_type": "markdown",
   "metadata": {},
   "source": [
    "### Generate User List"
   ]
  },
  {
   "cell_type": "code",
   "execution_count": 111,
   "metadata": {
    "ExecuteTime": {
     "end_time": "2020-07-29T13:28:14.440314Z",
     "start_time": "2020-07-29T13:28:14.437955Z"
    }
   },
   "outputs": [],
   "source": [
    "def user_list_fu(dnn_input_data):\n",
    "    user_list = dnn_input_data.index\n",
    "    user_list = user_list.unique()\n",
    "    return user_list\n",
    "\n",
    "UPC_list = []"
   ]
  },
  {
   "cell_type": "code",
   "execution_count": 112,
   "metadata": {
    "ExecuteTime": {
     "end_time": "2020-07-29T13:28:33.771061Z",
     "start_time": "2020-07-29T13:28:33.768085Z"
    }
   },
   "outputs": [],
   "source": [
    "def train_test_data(one_user):    \n",
    "    x_train, x_test,y_train, y_test = train_test_split(one_user.iloc[:,0:6],one_user.iloc[:,6], random_state=66, test_size=0.3)\n",
    "    return x_train,x_test,y_train,y_test"
   ]
  },
  {
   "cell_type": "markdown",
   "metadata": {},
   "source": [
    "### Model building"
   ]
  },
  {
   "cell_type": "code",
   "execution_count": 113,
   "metadata": {
    "ExecuteTime": {
     "end_time": "2020-07-29T13:28:54.746887Z",
     "start_time": "2020-07-29T13:28:54.743889Z"
    }
   },
   "outputs": [],
   "source": [
    "def dnn_model():\n",
    "    #2. 모델 구성\n",
    "    input1 = Input(shape=(6,))\n",
    "    #dense1 = Dense(5, activation='relu')(input1)\n",
    "    #dense2 = Dense(3)(dense1)\n",
    "    output = Dense(1, activation='sigmoid')(input1)\n",
    "    model = Model(inputs=input1, outputs = output)\n",
    "    \n",
    "    model.compile(optimizer='adam', loss='MSE',metrics=['accuracy'])\n",
    "\n",
    "    return model"
   ]
  },
  {
   "cell_type": "code",
   "execution_count": 114,
   "metadata": {
    "ExecuteTime": {
     "end_time": "2020-07-29T13:28:59.438817Z",
     "start_time": "2020-07-29T13:28:59.436062Z"
    }
   },
   "outputs": [],
   "source": [
    "def train_test_data(one_user):    \n",
    "    x_train, x_test,y_train, y_test = train_test_split(one_user.iloc[:,0:6],one_user.iloc[:,6], random_state=66, test_size=0.3)\n",
    "    return x_train,x_test,y_train,y_test"
   ]
  },
  {
   "cell_type": "markdown",
   "metadata": {},
   "source": [
    "### Train"
   ]
  },
  {
   "cell_type": "code",
   "execution_count": 127,
   "metadata": {
    "ExecuteTime": {
     "end_time": "2020-07-29T13:33:54.530722Z",
     "start_time": "2020-07-29T13:33:54.527738Z"
    }
   },
   "outputs": [],
   "source": [
    "def model_fit(model, x_train, y_train, x_test, y_test):\n",
    "    # 3. 훈련\n",
    "    model.fit(x_train,y_train/5, epochs=1, batch_size=1, validation_data=(x_test,y_test/5))\n",
    "    \n",
    "    # 4. 평가 예측\n",
    "    loss, mse = model.evaluate(x_test,y_test/5,batch_size=1)\n",
    "    print('acc:',mse)\n",
    "    return model"
   ]
  },
  {
   "cell_type": "code",
   "execution_count": 116,
   "metadata": {
    "ExecuteTime": {
     "end_time": "2020-07-29T13:29:23.641723Z",
     "start_time": "2020-07-29T13:29:23.638994Z"
    }
   },
   "outputs": [],
   "source": [
    "def weights_list(model):\n",
    "    weights = model.layers[1].get_weights()\n",
    "    weights = MinMaxScaler().fit_transform(weights[0])\n",
    "    weights = np.array(weights)\n",
    "    weights= np.squeeze(weights,axis=1)\n",
    "    UPC_list=[]\n",
    "    UPC_list.append(weights)\n",
    "    return UPC_list"
   ]
  },
  {
   "cell_type": "code",
   "execution_count": 117,
   "metadata": {
    "ExecuteTime": {
     "end_time": "2020-07-29T13:29:29.378744Z",
     "start_time": "2020-07-29T13:29:29.375965Z"
    }
   },
   "outputs": [],
   "source": [
    "def dnn_main(one_user):\n",
    "    x_train,x_test,y_train,y_test = train_test_data(one_user)\n",
    "    \n",
    "    model = dnn_model()\n",
    "    model = model_fit(model, x_train, y_train, x_test, y_test)\n",
    "    #pred_y = predict_y()\n",
    "    \n",
    "    UPC_list=weights_list(model)\n",
    "    \n",
    "    return UPC_list"
   ]
  },
  {
   "cell_type": "markdown",
   "metadata": {},
   "source": [
    "### Dataframe Converting"
   ]
  },
  {
   "cell_type": "code",
   "execution_count": 131,
   "metadata": {
    "ExecuteTime": {
     "end_time": "2020-07-29T14:11:26.401394Z",
     "start_time": "2020-07-29T14:11:26.397939Z"
    }
   },
   "outputs": [],
   "source": [
    "def UPC_dataframe(UPC_list,user_list):   \n",
    "    UPC_data = pd.DataFrame(index=range(0,0),columns=['Author','Service','Cleanliness','Rooms','Value','Sleep Quality','Location'])\n",
    "    UPC_data = UPC_data.set_index('Author')\n",
    "\n",
    "    for i in range(len(UPC_list)):\n",
    "        UPC_data = UPC_data.append(pd.Series(UPC_list[i],name = user_list[i],index=UPC_data.columns))\n",
    "\n",
    "    return UPC_data"
   ]
  },
  {
   "cell_type": "code",
   "execution_count": 130,
   "metadata": {
    "ExecuteTime": {
     "end_time": "2020-07-29T14:11:02.953806Z",
     "start_time": "2020-07-29T14:11:02.949822Z"
    }
   },
   "outputs": [],
   "source": [
    "def len_pre(data_over):\n",
    "    data_count = data_over['Author'].value_counts()\n",
    "    tmp = pd.DataFrame(data_count.index, columns=['Author'])\n",
    "    tmp['count'] = data_count.values\n",
    "    data_count = tmp\n",
    "\n",
    "\n",
    "    np_data = np.array(data_count)\n",
    "    np_data=np_data[np.where(np_data[:,1]>=10)]\n",
    "    np_data=np_data[np.where(np_data[:,1]<=50)]\n",
    "\n",
    "    np_data = np.delete(np_data,(1),axis=1)\n",
    "    df1 = pd.DataFrame(columns=['name'])\n",
    "    name = np_data.reshape(-1,)\n",
    "    df1['name']= name\n",
    "    data_over= data_over[data_over['Author'].isin(df1['name'])]\n",
    "    data_over = data_over.reset_index(drop=True)\n",
    "    data_over = data_over.set_index('Author')\n",
    "    \n",
    "    return data_over"
   ]
  },
  {
   "cell_type": "markdown",
   "metadata": {},
   "source": [
    "### Matrix Multiplication"
   ]
  },
  {
   "cell_type": "code",
   "execution_count": 129,
   "metadata": {
    "ExecuteTime": {
     "end_time": "2020-07-29T14:10:57.165250Z",
     "start_time": "2020-07-29T14:10:57.161874Z"
    }
   },
   "outputs": [],
   "source": [
    "def matrix_multiplication(IPC,UPC):\n",
    "    #호텔, 저자 이름 추출\n",
    "    IPC = IPC.reset_index()\n",
    "    UPC = UPC.reset_index()\n",
    "    \n",
    "    hotel_name = IPC['HotelID']\n",
    "    test_IPC = IPC.drop(['HotelID'],axis=1)\n",
    "\n",
    "    Author_name = UPC['Author']\n",
    "    test_UPC = UPC.drop(['Author'],axis=1)\n",
    "    ##################################################################\n",
    "\n",
    "    trans_UPC=np.transpose(test_UPC)\n",
    "\n",
    "    predict_matrix = np.dot(test_IPC,trans_UPC)\n",
    "    predict_matrix = pd.DataFrame(predict_matrix)\n",
    "\n",
    "    predict_matrix.columns=Author_name\n",
    "    predict_matrix.index = hotel_name\n",
    "    \n",
    "    return predict_matrix\n"
   ]
  },
  {
   "cell_type": "code",
   "execution_count": 121,
   "metadata": {
    "ExecuteTime": {
     "end_time": "2020-07-29T13:30:24.700945Z",
     "start_time": "2020-07-29T13:30:24.697868Z"
    }
   },
   "outputs": [],
   "source": [
    "def main(dnn_input_data,IPC):\n",
    "    with K.tf.device('/gpu:0'):\n",
    "        dnn_input_data = len_pre(dnn_input_data)\n",
    "        user_list = user_list_fu(dnn_input_data)\n",
    "        for i in range(len(user_list)):#유저 수만큼 반복\n",
    "            one_user= dnn_input_data.loc[user_list[i]]#유저 1명에 대한 리뷰\n",
    "            UPC_list = dnn_main(one_user)#main()함수로 DNN학습 후 유저별 가중치를 list에 저장\n",
    "\n",
    "        UPC = UPC_dataframe(UPC_list,user_list)#UPC_list를 데이터 프레임화\n",
    "        \n",
    "        predict_matrix = matrix_multiplication(IPC,UPC)\n",
    "         \n",
    "        return predict_matrix"
   ]
  },
  {
   "cell_type": "markdown",
   "metadata": {},
   "source": [
    "### Main Activation (UPC)"
   ]
  },
  {
   "cell_type": "code",
   "execution_count": 128,
   "metadata": {
    "ExecuteTime": {
     "end_time": "2020-07-29T13:37:40.032217Z",
     "start_time": "2020-07-29T13:33:59.442347Z"
    }
   },
   "outputs": [
    {
     "name": "stdout",
     "output_type": "stream",
     "text": [
      "Train on 13 samples, validate on 6 samples\n",
      "Epoch 1/1\n",
      "13/13 [==============================] - 1s 54ms/step - loss: 0.6303 - acc: 0.0000e+00 - val_loss: 0.7195 - val_acc: 0.0000e+00\n",
      "6/6 [==============================] - 0s 706us/step\n",
      "acc: 0.0\n",
      "Train on 20 samples, validate on 9 samples\n",
      "Epoch 1/1\n",
      "20/20 [==============================] - 1s 40ms/step - loss: 0.5427 - acc: 0.0000e+00 - val_loss: 0.6463 - val_acc: 0.0000e+00\n",
      "9/9 [==============================] - 0s 730us/step\n",
      "acc: 0.0\n",
      "Train on 7 samples, validate on 3 samples\n",
      "Epoch 1/1\n",
      "7/7 [==============================] - 1s 114ms/step - loss: 0.1317 - acc: 0.0000e+00 - val_loss: 0.0830 - val_acc: 0.6667\n",
      "3/3 [==============================] - 0s 951us/step\n",
      "acc: 0.6666666666666666\n",
      "Train on 7 samples, validate on 3 samples\n",
      "Epoch 1/1\n",
      "7/7 [==============================] - 1s 101ms/step - loss: 0.4030 - acc: 0.0000e+00 - val_loss: 0.5908 - val_acc: 0.0000e+00\n",
      "3/3 [==============================] - 0s 777us/step\n",
      "acc: 0.0\n",
      "Train on 7 samples, validate on 3 samples\n",
      "Epoch 1/1\n",
      "7/7 [==============================] - 1s 129ms/step - loss: 0.5587 - acc: 0.0000e+00 - val_loss: 0.4553 - val_acc: 0.0000e+00\n",
      "3/3 [==============================] - 0s 1ms/step\n",
      "acc: 0.0\n",
      "Train on 7 samples, validate on 4 samples\n",
      "Epoch 1/1\n",
      "7/7 [==============================] - 1s 118ms/step - loss: 0.0412 - acc: 0.4286 - val_loss: 0.0114 - val_acc: 0.5000\n",
      "4/4 [==============================] - 0s 732us/step\n",
      "acc: 0.5\n",
      "Train on 9 samples, validate on 4 samples\n",
      "Epoch 1/1\n",
      "9/9 [==============================] - 1s 91ms/step - loss: 0.6869 - acc: 0.0000e+00 - val_loss: 0.6399 - val_acc: 0.0000e+00\n",
      "4/4 [==============================] - 0s 917us/step\n",
      "acc: 0.0\n",
      "Train on 7 samples, validate on 3 samples\n",
      "Epoch 1/1\n",
      "7/7 [==============================] - 1s 137ms/step - loss: 0.0251 - acc: 0.5714 - val_loss: 0.1315 - val_acc: 0.3333\n",
      "3/3 [==============================] - 0s 1ms/step\n",
      "acc: 0.3333333333333333\n",
      "Train on 7 samples, validate on 3 samples\n",
      "Epoch 1/1\n",
      "7/7 [==============================] - 1s 116ms/step - loss: 0.7703 - acc: 0.0000e+00 - val_loss: 0.6831 - val_acc: 0.0000e+00\n",
      "3/3 [==============================] - 0s 685us/step\n",
      "acc: 0.0\n",
      "Train on 7 samples, validate on 3 samples\n",
      "Epoch 1/1\n",
      "7/7 [==============================] - 1s 137ms/step - loss: 0.1197 - acc: 0.4286 - val_loss: 0.1124 - val_acc: 0.0000e+00\n",
      "3/3 [==============================] - 0s 1ms/step\n",
      "acc: 0.0\n",
      "Train on 13 samples, validate on 6 samples\n",
      "Epoch 1/1\n",
      "13/13 [==============================] - 1s 77ms/step - loss: 0.0196 - acc: 0.3077 - val_loss: 0.0787 - val_acc: 0.3333\n",
      "6/6 [==============================] - 0s 812us/step\n",
      "acc: 0.3333333333333333\n",
      "Train on 9 samples, validate on 5 samples\n",
      "Epoch 1/1\n",
      "9/9 [==============================] - 1s 90ms/step - loss: 0.3719 - acc: 0.0000e+00 - val_loss: 0.2897 - val_acc: 0.0000e+00\n",
      "5/5 [==============================] - 0s 782us/step\n",
      "acc: 0.0\n",
      "Train on 8 samples, validate on 4 samples\n",
      "Epoch 1/1\n",
      "8/8 [==============================] - 1s 125ms/step - loss: 0.5072 - acc: 0.0000e+00 - val_loss: 0.6979 - val_acc: 0.0000e+00\n",
      "4/4 [==============================] - 0s 1ms/step\n",
      "acc: 0.0\n",
      "Train on 7 samples, validate on 4 samples\n",
      "Epoch 1/1\n",
      "7/7 [==============================] - 1s 137ms/step - loss: 0.0796 - acc: 0.2857 - val_loss: 0.0594 - val_acc: 0.2500\n",
      "4/4 [==============================] - 0s 754us/step\n",
      "acc: 0.25\n",
      "Train on 8 samples, validate on 4 samples\n",
      "Epoch 1/1\n",
      "8/8 [==============================] - 1s 120ms/step - loss: 0.2750 - acc: 0.2500 - val_loss: 0.0900 - val_acc: 0.7500\n",
      "4/4 [==============================] - 0s 946us/step\n",
      "acc: 0.75\n",
      "Train on 10 samples, validate on 5 samples\n",
      "Epoch 1/1\n",
      "10/10 [==============================] - 1s 113ms/step - loss: 0.2457 - acc: 0.3000 - val_loss: 0.1356 - val_acc: 0.0000e+00\n",
      "5/5 [==============================] - 0s 832us/step\n",
      "acc: 0.0\n",
      "Train on 11 samples, validate on 6 samples\n",
      "Epoch 1/1\n",
      "11/11 [==============================] - 1s 84ms/step - loss: 0.5296 - acc: 0.0000e+00 - val_loss: 0.4883 - val_acc: 0.0000e+00\n",
      "6/6 [==============================] - 0s 723us/step\n",
      "acc: 0.0\n",
      "Train on 7 samples, validate on 4 samples\n",
      "Epoch 1/1\n",
      "7/7 [==============================] - 1s 168ms/step - loss: 0.3000 - acc: 0.0000e+00 - val_loss: 0.4412 - val_acc: 0.0000e+00\n",
      "4/4 [==============================] - 0s 991us/step\n",
      "acc: 0.0\n",
      "Train on 7 samples, validate on 4 samples\n",
      "Epoch 1/1\n",
      "7/7 [==============================] - 1s 147ms/step - loss: 0.0597 - acc: 0.5714 - val_loss: 0.0250 - val_acc: 0.2500\n",
      "4/4 [==============================] - 0s 698us/step\n",
      "acc: 0.25\n",
      "Train on 8 samples, validate on 4 samples\n",
      "Epoch 1/1\n",
      "8/8 [==============================] - 1s 134ms/step - loss: 0.4317 - acc: 0.0000e+00 - val_loss: 0.4924 - val_acc: 0.0000e+00\n",
      "4/4 [==============================] - 0s 994us/step\n",
      "acc: 0.0\n",
      "Train on 8 samples, validate on 4 samples\n",
      "Epoch 1/1\n",
      "8/8 [==============================] - 1s 140ms/step - loss: 0.1212 - acc: 0.7500 - val_loss: 0.1590 - val_acc: 0.5000\n",
      "4/4 [==============================] - 0s 795us/step\n",
      "acc: 0.5\n",
      "Train on 7 samples, validate on 3 samples\n",
      "Epoch 1/1\n",
      "7/7 [==============================] - 1s 156ms/step - loss: 0.0846 - acc: 0.1429 - val_loss: 0.0570 - val_acc: 0.3333\n",
      "3/3 [==============================] - 0s 1ms/step\n",
      "acc: 0.3333333333333333\n",
      "Train on 7 samples, validate on 3 samples\n",
      "Epoch 1/1\n",
      "7/7 [==============================] - 1s 170ms/step - loss: 0.0255 - acc: 0.2857 - val_loss: 0.0224 - val_acc: 0.3333\n",
      "3/3 [==============================] - 0s 1ms/step\n",
      "acc: 0.3333333333333333\n",
      "Train on 12 samples, validate on 6 samples\n",
      "Epoch 1/1\n",
      "12/12 [==============================] - 1s 106ms/step - loss: 0.8018 - acc: 0.0000e+00 - val_loss: 0.8772 - val_acc: 0.0000e+00\n",
      "6/6 [==============================] - 0s 757us/step\n",
      "acc: 0.0\n",
      "Train on 15 samples, validate on 7 samples\n",
      "Epoch 1/1\n",
      "15/15 [==============================] - 1s 76ms/step - loss: 0.2548 - acc: 0.0667 - val_loss: 0.1108 - val_acc: 0.1429\n",
      "7/7 [==============================] - 0s 970us/step\n",
      "acc: 0.14285714285714285\n",
      "Train on 9 samples, validate on 5 samples\n",
      "Epoch 1/1\n",
      "9/9 [==============================] - 1s 149ms/step - loss: 0.0166 - acc: 0.3333 - val_loss: 0.0624 - val_acc: 0.2000\n",
      "5/5 [==============================] - 0s 823us/step\n",
      "acc: 0.2\n",
      "Train on 9 samples, validate on 5 samples\n",
      "Epoch 1/1\n",
      "9/9 [==============================] - 1s 135ms/step - loss: 0.0600 - acc: 0.4444 - val_loss: 4.1897e-05 - val_acc: 1.0000\n",
      "5/5 [==============================] - 0s 991us/step\n",
      "acc: 1.0\n",
      "Train on 8 samples, validate on 4 samples\n",
      "Epoch 1/1\n",
      "8/8 [==============================] - 1s 169ms/step - loss: 0.0821 - acc: 0.1250 - val_loss: 0.0598 - val_acc: 0.2500\n",
      "4/4 [==============================] - 0s 876us/step\n",
      "acc: 0.25\n",
      "Train on 9 samples, validate on 4 samples\n",
      "Epoch 1/1\n",
      "9/9 [==============================] - 1s 132ms/step - loss: 0.5817 - acc: 0.0000e+00 - val_loss: 0.6722 - val_acc: 0.0000e+00\n",
      "4/4 [==============================] - 0s 1ms/step\n",
      "acc: 0.0\n",
      "Train on 7 samples, validate on 4 samples\n",
      "Epoch 1/1\n",
      "7/7 [==============================] - 1s 204ms/step - loss: 0.0951 - acc: 0.4286 - val_loss: 0.1024 - val_acc: 0.2500\n",
      "4/4 [==============================] - 0s 999us/step\n",
      "acc: 0.25\n",
      "Train on 7 samples, validate on 3 samples\n",
      "Epoch 1/1\n",
      "7/7 [==============================] - 1s 175ms/step - loss: 0.2613 - acc: 0.0000e+00 - val_loss: 0.3392 - val_acc: 0.0000e+00\n",
      "3/3 [==============================] - 0s 1ms/step\n",
      "acc: 0.0\n",
      "Train on 34 samples, validate on 15 samples\n",
      "Epoch 1/1\n",
      "34/34 [==============================] - 1s 41ms/step - loss: 0.6023 - acc: 0.0000e+00 - val_loss: 0.5254 - val_acc: 0.0000e+00\n",
      "15/15 [==============================] - 0s 794us/step\n",
      "acc: 0.0\n",
      "Train on 14 samples, validate on 7 samples\n",
      "Epoch 1/1\n",
      "14/14 [==============================] - 1s 96ms/step - loss: 0.6148 - acc: 0.0000e+00 - val_loss: 0.5283 - val_acc: 0.0000e+00\n",
      "7/7 [==============================] - 0s 953us/step\n",
      "acc: 0.0\n",
      "Train on 7 samples, validate on 3 samples\n",
      "Epoch 1/1\n",
      "7/7 [==============================] - 1s 190ms/step - loss: 0.6820 - acc: 0.0000e+00 - val_loss: 0.8775 - val_acc: 0.0000e+00\n",
      "3/3 [==============================] - 0s 925us/step\n",
      "acc: 0.0\n",
      "Train on 11 samples, validate on 5 samples\n",
      "Epoch 1/1\n"
     ]
    },
    {
     "name": "stdout",
     "output_type": "stream",
     "text": [
      "11/11 [==============================] - 1s 127ms/step - loss: 0.6569 - acc: 0.0000e+00 - val_loss: 0.6544 - val_acc: 0.0000e+00\n",
      "5/5 [==============================] - 0s 1ms/step\n",
      "acc: 0.0\n",
      "Train on 9 samples, validate on 5 samples\n",
      "Epoch 1/1\n",
      "9/9 [==============================] - 1s 142ms/step - loss: 0.0608 - acc: 0.4444 - val_loss: 0.0347 - val_acc: 0.6000\n",
      "5/5 [==============================] - 0s 819us/step\n",
      "acc: 0.6\n",
      "Train on 10 samples, validate on 5 samples\n",
      "Epoch 1/1\n",
      "10/10 [==============================] - 2s 153ms/step - loss: 0.0318 - acc: 0.5000 - val_loss: 0.0397 - val_acc: 0.6000\n",
      "5/5 [==============================] - 0s 953us/step\n",
      "acc: 0.6\n",
      "Train on 7 samples, validate on 4 samples\n",
      "Epoch 1/1\n",
      "7/7 [==============================] - 1s 185ms/step - loss: 0.4128 - acc: 0.0000e+00 - val_loss: 0.5359 - val_acc: 0.0000e+00\n",
      "4/4 [==============================] - 0s 1ms/step\n",
      "acc: 0.0\n",
      "Train on 10 samples, validate on 5 samples\n",
      "Epoch 1/1\n",
      "10/10 [==============================] - 2s 165ms/step - loss: 0.3933 - acc: 0.0000e+00 - val_loss: 0.2868 - val_acc: 0.0000e+00\n",
      "5/5 [==============================] - 0s 1ms/step\n",
      "acc: 0.0\n",
      "Train on 7 samples, validate on 4 samples\n",
      "Epoch 1/1\n",
      "7/7 [==============================] - 1s 198ms/step - loss: 0.1387 - acc: 0.2857 - val_loss: 0.1335 - val_acc: 0.2500\n",
      "4/4 [==============================] - 0s 1ms/step\n",
      "acc: 0.25\n",
      "Train on 25 samples, validate on 12 samples\n",
      "Epoch 1/1\n",
      "25/25 [==============================] - 2s 61ms/step - loss: 0.3212 - acc: 0.0000e+00 - val_loss: 0.3464 - val_acc: 0.0000e+00\n",
      "12/12 [==============================] - 0s 825us/step\n",
      "acc: 0.0\n",
      "Train on 7 samples, validate on 3 samples\n",
      "Epoch 1/1\n",
      "7/7 [==============================] - 1s 213ms/step - loss: 0.0628 - acc: 0.5714 - val_loss: 0.1733 - val_acc: 0.3333\n",
      "3/3 [==============================] - 0s 1ms/step\n",
      "acc: 0.3333333333333333\n",
      "Train on 8 samples, validate on 4 samples\n",
      "Epoch 1/1\n",
      "8/8 [==============================] - 1s 171ms/step - loss: 0.4584 - acc: 0.0000e+00 - val_loss: 0.5703 - val_acc: 0.0000e+00\n",
      "4/4 [==============================] - 0s 936us/step\n",
      "acc: 0.0\n",
      "Train on 8 samples, validate on 4 samples\n",
      "Epoch 1/1\n",
      "8/8 [==============================] - 2s 200ms/step - loss: 0.0932 - acc: 0.3750 - val_loss: 0.1109 - val_acc: 0.5000\n",
      "4/4 [==============================] - 0s 1ms/step\n",
      "acc: 0.5\n",
      "Train on 7 samples, validate on 3 samples\n",
      "Epoch 1/1\n",
      "7/7 [==============================] - 1s 196ms/step - loss: 0.0285 - acc: 0.0000e+00 - val_loss: 0.0536 - val_acc: 0.6667\n",
      "3/3 [==============================] - 0s 1ms/step\n",
      "acc: 0.6666666666666666\n",
      "Train on 9 samples, validate on 5 samples\n",
      "Epoch 1/1\n",
      "9/9 [==============================] - 2s 178ms/step - loss: 0.2420 - acc: 0.1111 - val_loss: 0.0069 - val_acc: 0.8000\n",
      "5/5 [==============================] - 0s 1ms/step\n",
      "acc: 0.8\n",
      "Train on 10 samples, validate on 5 samples\n",
      "Epoch 1/1\n",
      "10/10 [==============================] - 2s 157ms/step - loss: 0.8194 - acc: 0.0000e+00 - val_loss: 0.6878 - val_acc: 0.0000e+00\n",
      "5/5 [==============================] - 0s 1ms/step\n",
      "acc: 0.0\n",
      "Train on 16 samples, validate on 8 samples\n",
      "Epoch 1/1\n",
      "16/16 [==============================] - 2s 98ms/step - loss: 0.0721 - acc: 0.6250 - val_loss: 0.0598 - val_acc: 0.5000\n",
      "8/8 [==============================] - 0s 1ms/step\n",
      "acc: 0.5\n",
      "Train on 7 samples, validate on 3 samples\n",
      "Epoch 1/1\n",
      "7/7 [==============================] - 2s 259ms/step - loss: 0.0626 - acc: 0.5714 - val_loss: 0.2922 - val_acc: 0.0000e+00\n",
      "3/3 [==============================] - 0s 956us/step\n",
      "acc: 0.0\n",
      "Train on 9 samples, validate on 5 samples\n",
      "Epoch 1/1\n",
      "9/9 [==============================] - 2s 171ms/step - loss: 0.0885 - acc: 0.3333 - val_loss: 0.0476 - val_acc: 0.4000\n",
      "5/5 [==============================] - 0s 1ms/step\n",
      "acc: 0.4\n",
      "Train on 7 samples, validate on 4 samples\n",
      "Epoch 1/1\n",
      "7/7 [==============================] - 2s 224ms/step - loss: 0.5245 - acc: 0.0000e+00 - val_loss: 0.6282 - val_acc: 0.0000e+00\n",
      "4/4 [==============================] - 0s 857us/step\n",
      "acc: 0.0\n",
      "Train on 12 samples, validate on 6 samples\n",
      "Epoch 1/1\n",
      "12/12 [==============================] - 2s 152ms/step - loss: 0.2801 - acc: 0.0000e+00 - val_loss: 0.5353 - val_acc: 0.0000e+00\n",
      "6/6 [==============================] - 0s 1ms/step\n",
      "acc: 0.0\n",
      "Train on 7 samples, validate on 4 samples\n",
      "Epoch 1/1\n",
      "7/7 [==============================] - 2s 220ms/step - loss: 0.3863 - acc: 0.0000e+00 - val_loss: 0.3384 - val_acc: 0.0000e+00\n",
      "4/4 [==============================] - 0s 1ms/step\n",
      "acc: 0.0\n",
      "Train on 8 samples, validate on 4 samples\n",
      "Epoch 1/1\n",
      "8/8 [==============================] - 2s 209ms/step - loss: 0.1262 - acc: 0.6250 - val_loss: 0.1016 - val_acc: 0.7500\n",
      "4/4 [==============================] - 0s 935us/step\n",
      "acc: 0.75\n",
      "Train on 7 samples, validate on 3 samples\n",
      "Epoch 1/1\n",
      "7/7 [==============================] - 2s 265ms/step - loss: 0.0228 - acc: 0.4286 - val_loss: 0.0399 - val_acc: 0.0000e+00\n",
      "3/3 [==============================] - 0s 1ms/step\n",
      "acc: 0.0\n",
      "Train on 13 samples, validate on 6 samples\n",
      "Epoch 1/1\n",
      "13/13 [==============================] - 2s 126ms/step - loss: 0.5846 - acc: 0.0000e+00 - val_loss: 0.6733 - val_acc: 0.0000e+00\n",
      "6/6 [==============================] - 0s 1ms/step\n",
      "acc: 0.0\n",
      "Train on 7 samples, validate on 4 samples\n",
      "Epoch 1/1\n",
      "7/7 [==============================] - 2s 267ms/step - loss: 0.2720 - acc: 0.0000e+00 - val_loss: 0.5026 - val_acc: 0.0000e+00\n",
      "4/4 [==============================] - 0s 1ms/step\n",
      "acc: 0.0\n",
      "Train on 7 samples, validate on 4 samples\n",
      "Epoch 1/1\n",
      "7/7 [==============================] - 2s 268ms/step - loss: 0.3646 - acc: 0.0000e+00 - val_loss: 0.3127 - val_acc: 0.0000e+00\n",
      "4/4 [==============================] - 0s 1ms/step\n",
      "acc: 0.0\n",
      "Train on 7 samples, validate on 3 samples\n",
      "Epoch 1/1\n",
      "7/7 [==============================] - 2s 252ms/step - loss: 0.8512 - acc: 0.0000e+00 - val_loss: 0.7543 - val_acc: 0.0000e+00\n",
      "3/3 [==============================] - 0s 2ms/step\n",
      "acc: 0.0\n",
      "Train on 14 samples, validate on 7 samples\n",
      "Epoch 1/1\n",
      "14/14 [==============================] - 2s 120ms/step - loss: 0.6368 - acc: 0.0000e+00 - val_loss: 0.6388 - val_acc: 0.0000e+00\n",
      "7/7 [==============================] - 0s 1ms/step\n",
      "acc: 0.0\n",
      "Train on 10 samples, validate on 5 samples\n",
      "Epoch 1/1\n",
      "10/10 [==============================] - 2s 183ms/step - loss: 0.5030 - acc: 0.0000e+00 - val_loss: 0.6532 - val_acc: 0.0000e+00\n",
      "5/5 [==============================] - 0s 1ms/step\n",
      "acc: 0.0\n",
      "Train on 18 samples, validate on 8 samples\n",
      "Epoch 1/1\n",
      "18/18 [==============================] - 2s 103ms/step - loss: 0.0933 - acc: 0.3889 - val_loss: 0.0140 - val_acc: 0.5000\n",
      "8/8 [==============================] - 0s 1ms/step\n",
      "acc: 0.5\n",
      "Train on 8 samples, validate on 4 samples\n",
      "Epoch 1/1\n",
      "8/8 [==============================] - 2s 237ms/step - loss: 0.1487 - acc: 0.1250 - val_loss: 0.1778 - val_acc: 0.0000e+00\n",
      "4/4 [==============================] - 0s 1ms/step\n",
      "acc: 0.0\n",
      "Train on 10 samples, validate on 5 samples\n",
      "Epoch 1/1\n",
      "10/10 [==============================] - 2s 191ms/step - loss: 0.7022 - acc: 0.0000e+00 - val_loss: 0.3308 - val_acc: 0.0000e+00\n",
      "5/5 [==============================] - 0s 1ms/step\n",
      "acc: 0.0\n",
      "Train on 9 samples, validate on 4 samples\n",
      "Epoch 1/1\n",
      "9/9 [==============================] - 2s 210ms/step - loss: 0.1432 - acc: 0.1111 - val_loss: 0.0994 - val_acc: 0.0000e+00\n",
      "4/4 [==============================] - 0s 2ms/step\n",
      "acc: 0.0\n",
      "Train on 7 samples, validate on 4 samples\n",
      "Epoch 1/1\n",
      "7/7 [==============================] - 2s 282ms/step - loss: 0.1936 - acc: 0.0000e+00 - val_loss: 0.1964 - val_acc: 0.2500\n",
      "4/4 [==============================] - 0s 1ms/step\n",
      "acc: 0.25\n",
      "Train on 7 samples, validate on 4 samples\n",
      "Epoch 1/1\n",
      "7/7 [==============================] - 2s 281ms/step - loss: 0.0539 - acc: 0.2857 - val_loss: 0.0517 - val_acc: 0.2500\n",
      "4/4 [==============================] - 0s 1ms/step\n",
      "acc: 0.25\n",
      "Train on 7 samples, validate on 4 samples\n",
      "Epoch 1/1\n",
      "7/7 [==============================] - 2s 291ms/step - loss: 0.0733 - acc: 0.0000e+00 - val_loss: 0.1901 - val_acc: 0.0000e+00\n",
      "4/4 [==============================] - 0s 1ms/step\n",
      "acc: 0.0\n",
      "Train on 11 samples, validate on 6 samples\n",
      "Epoch 1/1\n",
      "11/11 [==============================] - 2s 180ms/step - loss: 0.0518 - acc: 0.5455 - val_loss: 0.0403 - val_acc: 0.1667\n"
     ]
    },
    {
     "name": "stdout",
     "output_type": "stream",
     "text": [
      "6/6 [==============================] - 0s 2ms/step\n",
      "acc: 0.16666666666666666\n",
      "Train on 11 samples, validate on 5 samples\n",
      "Epoch 1/1\n",
      "11/11 [==============================] - 2s 185ms/step - loss: 0.7562 - acc: 0.0000e+00 - val_loss: 0.7311 - val_acc: 0.0000e+00\n",
      "5/5 [==============================] - 0s 1ms/step\n",
      "acc: 0.0\n",
      "Train on 11 samples, validate on 6 samples\n",
      "Epoch 1/1\n",
      "11/11 [==============================] - 2s 201ms/step - loss: 0.0082 - acc: 0.7273 - val_loss: 0.0099 - val_acc: 0.6667\n",
      "6/6 [==============================] - 0s 1ms/step\n",
      "acc: 0.6666666666666666\n",
      "Train on 7 samples, validate on 3 samples\n",
      "Epoch 1/1\n",
      "7/7 [==============================] - 2s 290ms/step - loss: 0.0178 - acc: 0.4286 - val_loss: 0.0903 - val_acc: 0.3333\n",
      "3/3 [==============================] - 0s 2ms/step\n",
      "acc: 0.3333333333333333\n",
      "Train on 10 samples, validate on 5 samples\n",
      "Epoch 1/1\n",
      "10/10 [==============================] - 2s 213ms/step - loss: 0.8441 - acc: 0.0000e+00 - val_loss: 0.6715 - val_acc: 0.0000e+00\n",
      "5/5 [==============================] - 0s 1ms/step\n",
      "acc: 0.0\n",
      "Train on 14 samples, validate on 7 samples\n",
      "Epoch 1/1\n",
      "14/14 [==============================] - 2s 151ms/step - loss: 0.4508 - acc: 0.0000e+00 - val_loss: 0.4576 - val_acc: 0.0000e+00\n",
      "7/7 [==============================] - 0s 1ms/step\n",
      "acc: 0.0\n",
      "Train on 11 samples, validate on 5 samples\n",
      "Epoch 1/1\n",
      "11/11 [==============================] - 2s 185ms/step - loss: 0.4397 - acc: 0.0000e+00 - val_loss: 0.2478 - val_acc: 0.0000e+00\n",
      "5/5 [==============================] - 0s 1ms/step\n",
      "acc: 0.0\n",
      "Train on 10 samples, validate on 5 samples\n",
      "Epoch 1/1\n",
      "10/10 [==============================] - 2s 219ms/step - loss: 0.6033 - acc: 0.0000e+00 - val_loss: 0.6714 - val_acc: 0.0000e+00\n",
      "5/5 [==============================] - 0s 1ms/step\n",
      "acc: 0.0\n",
      "Train on 8 samples, validate on 4 samples\n",
      "Epoch 1/1\n",
      "8/8 [==============================] - 2s 271ms/step - loss: 0.0567 - acc: 0.0000e+00 - val_loss: 0.0082 - val_acc: 0.2500\n",
      "4/4 [==============================] - 0s 2ms/step\n",
      "acc: 0.25\n",
      "Train on 9 samples, validate on 4 samples\n",
      "Epoch 1/1\n",
      "9/9 [==============================] - 2s 246ms/step - loss: 0.0879 - acc: 0.2222 - val_loss: 0.1657 - val_acc: 0.0000e+00\n",
      "4/4 [==============================] - 0s 1ms/step\n",
      "acc: 0.0\n",
      "Train on 14 samples, validate on 6 samples\n",
      "Epoch 1/1\n",
      "14/14 [==============================] - 2s 160ms/step - loss: 0.2998 - acc: 0.0000e+00 - val_loss: 0.3392 - val_acc: 0.0000e+00\n",
      "6/6 [==============================] - 0s 1ms/step\n",
      "acc: 0.0\n",
      "Train on 11 samples, validate on 6 samples\n",
      "Epoch 1/1\n",
      "11/11 [==============================] - 2s 208ms/step - loss: 0.2764 - acc: 0.0000e+00 - val_loss: 0.2042 - val_acc: 0.0000e+00\n",
      "6/6 [==============================] - 0s 1ms/step\n",
      "acc: 0.0\n",
      "Train on 9 samples, validate on 5 samples\n",
      "Epoch 1/1\n",
      "9/9 [==============================] - 2s 233ms/step - loss: 0.0710 - acc: 0.4444 - val_loss: 0.1326 - val_acc: 0.8000\n",
      "5/5 [==============================] - 0s 2ms/step\n",
      "acc: 0.8\n",
      "Train on 7 samples, validate on 4 samples\n",
      "Epoch 1/1\n",
      "7/7 [==============================] - 2s 305ms/step - loss: 0.5340 - acc: 0.0000e+00 - val_loss: 0.5532 - val_acc: 0.0000e+00\n",
      "4/4 [==============================] - 0s 1ms/step\n",
      "acc: 0.0\n",
      "Train on 7 samples, validate on 4 samples\n",
      "Epoch 1/1\n",
      "7/7 [==============================] - 2s 333ms/step - loss: 0.1268 - acc: 0.2857 - val_loss: 0.1476 - val_acc: 0.0000e+00\n",
      "4/4 [==============================] - 0s 1ms/step\n",
      "acc: 0.0\n",
      "Train on 8 samples, validate on 4 samples\n",
      "Epoch 1/1\n",
      "8/8 [==============================] - 2s 303ms/step - loss: 0.1532 - acc: 0.6250 - val_loss: 0.1239 - val_acc: 0.5000\n",
      "4/4 [==============================] - 0s 2ms/step\n",
      "acc: 0.5\n",
      "Train on 8 samples, validate on 4 samples\n",
      "Epoch 1/1\n",
      "8/8 [==============================] - 2s 283ms/step - loss: 0.0232 - acc: 0.7500 - val_loss: 0.0456 - val_acc: 0.5000\n",
      "4/4 [==============================] - 0s 2ms/step\n",
      "acc: 0.5\n",
      "Train on 7 samples, validate on 3 samples\n",
      "Epoch 1/1\n",
      "7/7 [==============================] - 2s 322ms/step - loss: 0.7285 - acc: 0.0000e+00 - val_loss: 0.6887 - val_acc: 0.0000e+00\n",
      "3/3 [==============================] - 0s 1ms/step\n",
      "acc: 0.0\n",
      "Train on 9 samples, validate on 4 samples\n",
      "Epoch 1/1\n",
      "9/9 [==============================] - 2s 258ms/step - loss: 0.3633 - acc: 0.0000e+00 - val_loss: 0.6386 - val_acc: 0.0000e+00\n",
      "4/4 [==============================] - 0s 1ms/step\n",
      "acc: 0.0\n",
      "Train on 11 samples, validate on 6 samples\n",
      "Epoch 1/1\n",
      "11/11 [==============================] - 2s 218ms/step - loss: 0.7942 - acc: 0.0000e+00 - val_loss: 0.8545 - val_acc: 0.0000e+00\n",
      "6/6 [==============================] - 0s 2ms/step\n",
      "acc: 0.0\n",
      "Train on 7 samples, validate on 4 samples\n",
      "Epoch 1/1\n",
      "7/7 [==============================] - 2s 341ms/step - loss: 0.6630 - acc: 0.0000e+00 - val_loss: 0.7205 - val_acc: 0.0000e+00\n",
      "4/4 [==============================] - 0s 2ms/step\n",
      "acc: 0.0\n",
      "Train on 9 samples, validate on 4 samples\n",
      "Epoch 1/1\n",
      "9/9 [==============================] - 2s 261ms/step - loss: 0.0263 - acc: 0.6667 - val_loss: 0.0494 - val_acc: 0.5000\n",
      "4/4 [==============================] - 0s 2ms/step\n",
      "acc: 0.5\n",
      "Train on 8 samples, validate on 4 samples\n",
      "Epoch 1/1\n",
      "8/8 [==============================] - 2s 295ms/step - loss: 0.0406 - acc: 0.8750 - val_loss: 0.0704 - val_acc: 0.7500\n",
      "4/4 [==============================] - 0s 3ms/step\n",
      "acc: 0.75\n",
      "Train on 8 samples, validate on 4 samples\n",
      "Epoch 1/1\n",
      "8/8 [==============================] - 2s 292ms/step - loss: 0.1414 - acc: 0.3750 - val_loss: 0.1127 - val_acc: 0.0000e+00\n",
      "4/4 [==============================] - 0s 1ms/step\n",
      "acc: 0.0\n",
      "Train on 11 samples, validate on 5 samples\n",
      "Epoch 1/1\n",
      "11/11 [==============================] - 2s 221ms/step - loss: 0.0328 - acc: 0.4545 - val_loss: 0.0287 - val_acc: 0.2000\n",
      "5/5 [==============================] - 0s 1ms/step\n",
      "acc: 0.2\n",
      "Train on 8 samples, validate on 4 samples\n",
      "Epoch 1/1\n",
      "8/8 [==============================] - 2s 309ms/step - loss: 0.1058 - acc: 0.5000 - val_loss: 3.4329e-04 - val_acc: 1.0000\n",
      "4/4 [==============================] - 0s 1ms/step\n",
      "acc: 1.0\n",
      "Train on 11 samples, validate on 5 samples\n",
      "Epoch 1/1\n",
      "11/11 [==============================] - 3s 235ms/step - loss: 0.0556 - acc: 0.6364 - val_loss: 0.0645 - val_acc: 0.8000\n",
      "5/5 [==============================] - 0s 2ms/step\n",
      "acc: 0.8\n",
      "Train on 7 samples, validate on 3 samples\n",
      "Epoch 1/1\n",
      "7/7 [==============================] - 3s 387ms/step - loss: 0.2349 - acc: 0.0000e+00 - val_loss: 0.2311 - val_acc: 0.0000e+00\n",
      "3/3 [==============================] - 0s 2ms/step\n",
      "acc: 0.0\n",
      "Train on 11 samples, validate on 5 samples\n",
      "Epoch 1/1\n",
      "11/11 [==============================] - 3s 228ms/step - loss: 0.3416 - acc: 0.0000e+00 - val_loss: 0.3138 - val_acc: 0.0000e+00\n",
      "5/5 [==============================] - 0s 1ms/step\n",
      "acc: 0.0\n",
      "Train on 19 samples, validate on 9 samples\n",
      "Epoch 1/1\n",
      "19/19 [==============================] - 3s 133ms/step - loss: 0.0356 - acc: 0.5263 - val_loss: 0.0039 - val_acc: 0.8889\n",
      "9/9 [==============================] - 0s 1ms/step\n",
      "acc: 0.8888888888888888\n",
      "Train on 15 samples, validate on 7 samples\n",
      "Epoch 1/1\n",
      "15/15 [==============================] - 3s 170ms/step - loss: 0.1564 - acc: 0.4000 - val_loss: 0.1132 - val_acc: 0.1429\n",
      "7/7 [==============================] - 0s 2ms/step\n",
      "acc: 0.14285714285714285\n",
      "Train on 11 samples, validate on 5 samples\n",
      "Epoch 1/1\n",
      "11/11 [==============================] - 3s 228ms/step - loss: 0.0970 - acc: 0.4545 - val_loss: 0.0583 - val_acc: 0.6000\n",
      "5/5 [==============================] - 0s 1ms/step\n",
      "acc: 0.6\n",
      "Train on 7 samples, validate on 4 samples\n",
      "Epoch 1/1\n",
      "7/7 [==============================] - 3s 371ms/step - loss: 0.6561 - acc: 0.0000e+00 - val_loss: 0.8654 - val_acc: 0.0000e+00\n",
      "4/4 [==============================] - 0s 2ms/step\n",
      "acc: 0.0\n",
      "Train on 7 samples, validate on 4 samples\n",
      "Epoch 1/1\n",
      "7/7 [==============================] - 3s 381ms/step - loss: 0.3886 - acc: 0.0000e+00 - val_loss: 0.3771 - val_acc: 0.0000e+00\n",
      "4/4 [==============================] - 0s 3ms/step\n",
      "acc: 0.0\n",
      "Train on 9 samples, validate on 4 samples\n",
      "Epoch 1/1\n",
      "9/9 [==============================] - 3s 289ms/step - loss: 0.0318 - acc: 0.6667 - val_loss: 0.0356 - val_acc: 0.5000\n",
      "4/4 [==============================] - 0s 2ms/step\n",
      "acc: 0.5\n",
      "Train on 9 samples, validate on 4 samples\n",
      "Epoch 1/1\n"
     ]
    },
    {
     "name": "stdout",
     "output_type": "stream",
     "text": [
      "9/9 [==============================] - 3s 292ms/step - loss: 0.1816 - acc: 0.5556 - val_loss: 0.0573 - val_acc: 0.2500\n",
      "4/4 [==============================] - 0s 2ms/step\n",
      "acc: 0.25\n",
      "Train on 7 samples, validate on 3 samples\n",
      "Epoch 1/1\n",
      "7/7 [==============================] - 3s 373ms/step - loss: 0.1997 - acc: 0.1429 - val_loss: 0.0228 - val_acc: 0.3333\n",
      "3/3 [==============================] - 0s 3ms/step\n",
      "acc: 0.3333333333333333\n",
      "Train on 7 samples, validate on 4 samples\n",
      "Epoch 1/1\n",
      "7/7 [==============================] - 3s 376ms/step - loss: 0.8681 - acc: 0.0000e+00 - val_loss: 0.5180 - val_acc: 0.0000e+00\n",
      "4/4 [==============================] - 0s 2ms/step\n",
      "acc: 0.0\n",
      "Train on 14 samples, validate on 7 samples\n",
      "Epoch 1/1\n"
     ]
    },
    {
     "ename": "KeyboardInterrupt",
     "evalue": "",
     "output_type": "error",
     "traceback": [
      "\u001b[0;31m-----------------------------------------------------\u001b[0m",
      "\u001b[0;31mKeyboardInterrupt\u001b[0m   Traceback (most recent call last)",
      "\u001b[0;32m<ipython-input-128-e973ba6d5b5e>\u001b[0m in \u001b[0;36m<module>\u001b[0;34m\u001b[0m\n\u001b[0;32m----> 1\u001b[0;31m \u001b[0mpredict_matrix\u001b[0m \u001b[0;34m=\u001b[0m \u001b[0mmain\u001b[0m\u001b[0;34m(\u001b[0m\u001b[0mdnn_input_data\u001b[0m\u001b[0;34m,\u001b[0m\u001b[0mIPC\u001b[0m\u001b[0;34m)\u001b[0m\u001b[0;34m\u001b[0m\u001b[0;34m\u001b[0m\u001b[0m\n\u001b[0m\u001b[1;32m      2\u001b[0m \u001b[0mprint\u001b[0m\u001b[0;34m(\u001b[0m\u001b[0mpredict_matrix\u001b[0m\u001b[0;34m)\u001b[0m\u001b[0;34m\u001b[0m\u001b[0;34m\u001b[0m\u001b[0m\n",
      "\u001b[0;32m<ipython-input-121-51d72efa80cf>\u001b[0m in \u001b[0;36mmain\u001b[0;34m(dnn_input_data, IPC)\u001b[0m\n\u001b[1;32m      5\u001b[0m         \u001b[0;32mfor\u001b[0m \u001b[0mi\u001b[0m \u001b[0;32min\u001b[0m \u001b[0mrange\u001b[0m\u001b[0;34m(\u001b[0m\u001b[0mlen\u001b[0m\u001b[0;34m(\u001b[0m\u001b[0muser_list\u001b[0m\u001b[0;34m)\u001b[0m\u001b[0;34m)\u001b[0m\u001b[0;34m:\u001b[0m\u001b[0;31m#유저 수만큼 반복\u001b[0m\u001b[0;34m\u001b[0m\u001b[0;34m\u001b[0m\u001b[0m\n\u001b[1;32m      6\u001b[0m             \u001b[0mone_user\u001b[0m\u001b[0;34m=\u001b[0m \u001b[0mdnn_input_data\u001b[0m\u001b[0;34m.\u001b[0m\u001b[0mloc\u001b[0m\u001b[0;34m[\u001b[0m\u001b[0muser_list\u001b[0m\u001b[0;34m[\u001b[0m\u001b[0mi\u001b[0m\u001b[0;34m]\u001b[0m\u001b[0;34m]\u001b[0m\u001b[0;31m#유저 1명에 대한 리뷰\u001b[0m\u001b[0;34m\u001b[0m\u001b[0;34m\u001b[0m\u001b[0m\n\u001b[0;32m----> 7\u001b[0;31m             \u001b[0mUPC_list\u001b[0m \u001b[0;34m=\u001b[0m \u001b[0mdnn_main\u001b[0m\u001b[0;34m(\u001b[0m\u001b[0mone_user\u001b[0m\u001b[0;34m)\u001b[0m\u001b[0;31m#main()함수로 DNN학습 후 유저별 가중치를 list에 저장\u001b[0m\u001b[0;34m\u001b[0m\u001b[0;34m\u001b[0m\u001b[0m\n\u001b[0m\u001b[1;32m      8\u001b[0m \u001b[0;34m\u001b[0m\u001b[0m\n\u001b[1;32m      9\u001b[0m         \u001b[0mUPC\u001b[0m \u001b[0;34m=\u001b[0m \u001b[0mUPC_dataframe\u001b[0m\u001b[0;34m(\u001b[0m\u001b[0mUPC_list\u001b[0m\u001b[0;34m,\u001b[0m\u001b[0muser_list\u001b[0m\u001b[0;34m)\u001b[0m\u001b[0;31m#UPC_list를 데이터 프레임화\u001b[0m\u001b[0;34m\u001b[0m\u001b[0;34m\u001b[0m\u001b[0m\n",
      "\u001b[0;32m<ipython-input-117-927a0dbc5b55>\u001b[0m in \u001b[0;36mdnn_main\u001b[0;34m(one_user)\u001b[0m\n\u001b[1;32m      3\u001b[0m \u001b[0;34m\u001b[0m\u001b[0m\n\u001b[1;32m      4\u001b[0m     \u001b[0mmodel\u001b[0m \u001b[0;34m=\u001b[0m \u001b[0mdnn_model\u001b[0m\u001b[0;34m(\u001b[0m\u001b[0;34m)\u001b[0m\u001b[0;34m\u001b[0m\u001b[0;34m\u001b[0m\u001b[0m\n\u001b[0;32m----> 5\u001b[0;31m     \u001b[0mmodel\u001b[0m \u001b[0;34m=\u001b[0m \u001b[0mmodel_fit\u001b[0m\u001b[0;34m(\u001b[0m\u001b[0mmodel\u001b[0m\u001b[0;34m,\u001b[0m \u001b[0mx_train\u001b[0m\u001b[0;34m,\u001b[0m \u001b[0my_train\u001b[0m\u001b[0;34m,\u001b[0m \u001b[0mx_test\u001b[0m\u001b[0;34m,\u001b[0m \u001b[0my_test\u001b[0m\u001b[0;34m)\u001b[0m\u001b[0;34m\u001b[0m\u001b[0;34m\u001b[0m\u001b[0m\n\u001b[0m\u001b[1;32m      6\u001b[0m     \u001b[0;31m#pred_y = predict_y()\u001b[0m\u001b[0;34m\u001b[0m\u001b[0;34m\u001b[0m\u001b[0;34m\u001b[0m\u001b[0m\n\u001b[1;32m      7\u001b[0m \u001b[0;34m\u001b[0m\u001b[0m\n",
      "\u001b[0;32m<ipython-input-127-fc0e1f6e6f5b>\u001b[0m in \u001b[0;36mmodel_fit\u001b[0;34m(model, x_train, y_train, x_test, y_test)\u001b[0m\n\u001b[1;32m      1\u001b[0m \u001b[0;32mdef\u001b[0m \u001b[0mmodel_fit\u001b[0m\u001b[0;34m(\u001b[0m\u001b[0mmodel\u001b[0m\u001b[0;34m,\u001b[0m \u001b[0mx_train\u001b[0m\u001b[0;34m,\u001b[0m \u001b[0my_train\u001b[0m\u001b[0;34m,\u001b[0m \u001b[0mx_test\u001b[0m\u001b[0;34m,\u001b[0m \u001b[0my_test\u001b[0m\u001b[0;34m)\u001b[0m\u001b[0;34m:\u001b[0m\u001b[0;34m\u001b[0m\u001b[0;34m\u001b[0m\u001b[0m\n\u001b[1;32m      2\u001b[0m     \u001b[0;31m# 3. 훈련\u001b[0m\u001b[0;34m\u001b[0m\u001b[0;34m\u001b[0m\u001b[0;34m\u001b[0m\u001b[0m\n\u001b[0;32m----> 3\u001b[0;31m     \u001b[0mmodel\u001b[0m\u001b[0;34m.\u001b[0m\u001b[0mfit\u001b[0m\u001b[0;34m(\u001b[0m\u001b[0mx_train\u001b[0m\u001b[0;34m,\u001b[0m\u001b[0my_train\u001b[0m\u001b[0;34m/\u001b[0m\u001b[0;36m5\u001b[0m\u001b[0;34m,\u001b[0m \u001b[0mepochs\u001b[0m\u001b[0;34m=\u001b[0m\u001b[0;36m1\u001b[0m\u001b[0;34m,\u001b[0m \u001b[0mbatch_size\u001b[0m\u001b[0;34m=\u001b[0m\u001b[0;36m1\u001b[0m\u001b[0;34m,\u001b[0m \u001b[0mvalidation_data\u001b[0m\u001b[0;34m=\u001b[0m\u001b[0;34m(\u001b[0m\u001b[0mx_test\u001b[0m\u001b[0;34m,\u001b[0m\u001b[0my_test\u001b[0m\u001b[0;34m/\u001b[0m\u001b[0;36m5\u001b[0m\u001b[0;34m)\u001b[0m\u001b[0;34m)\u001b[0m\u001b[0;34m\u001b[0m\u001b[0;34m\u001b[0m\u001b[0m\n\u001b[0m\u001b[1;32m      4\u001b[0m \u001b[0;34m\u001b[0m\u001b[0m\n\u001b[1;32m      5\u001b[0m     \u001b[0;31m# 4. 평가 예측\u001b[0m\u001b[0;34m\u001b[0m\u001b[0;34m\u001b[0m\u001b[0;34m\u001b[0m\u001b[0m\n",
      "\u001b[0;32m/usr/local/lib/python3.7/dist-packages/keras/engine/training.py\u001b[0m in \u001b[0;36mfit\u001b[0;34m(self, x, y, batch_size, epochs, verbose, callbacks, validation_split, validation_data, shuffle, class_weight, sample_weight, initial_epoch, steps_per_epoch, validation_steps, validation_freq, max_queue_size, workers, use_multiprocessing, **kwargs)\u001b[0m\n\u001b[1;32m   1176\u001b[0m                                         \u001b[0msteps_per_epoch\u001b[0m\u001b[0;34m=\u001b[0m\u001b[0msteps_per_epoch\u001b[0m\u001b[0;34m,\u001b[0m\u001b[0;34m\u001b[0m\u001b[0;34m\u001b[0m\u001b[0m\n\u001b[1;32m   1177\u001b[0m                                         \u001b[0mvalidation_steps\u001b[0m\u001b[0;34m=\u001b[0m\u001b[0mvalidation_steps\u001b[0m\u001b[0;34m,\u001b[0m\u001b[0;34m\u001b[0m\u001b[0;34m\u001b[0m\u001b[0m\n\u001b[0;32m-> 1178\u001b[0;31m                                         validation_freq=validation_freq)\n\u001b[0m\u001b[1;32m   1179\u001b[0m \u001b[0;34m\u001b[0m\u001b[0m\n\u001b[1;32m   1180\u001b[0m     def evaluate(self,\n",
      "\u001b[0;32m/usr/local/lib/python3.7/dist-packages/keras/engine/training_arrays.py\u001b[0m in \u001b[0;36mfit_loop\u001b[0;34m(model, fit_function, fit_inputs, out_labels, batch_size, epochs, verbose, callbacks, val_function, val_inputs, shuffle, callback_metrics, initial_epoch, steps_per_epoch, validation_steps, validation_freq)\u001b[0m\n\u001b[1;32m    202\u001b[0m                     \u001b[0mins_batch\u001b[0m\u001b[0;34m[\u001b[0m\u001b[0mi\u001b[0m\u001b[0;34m]\u001b[0m \u001b[0;34m=\u001b[0m \u001b[0mins_batch\u001b[0m\u001b[0;34m[\u001b[0m\u001b[0mi\u001b[0m\u001b[0;34m]\u001b[0m\u001b[0;34m.\u001b[0m\u001b[0mtoarray\u001b[0m\u001b[0;34m(\u001b[0m\u001b[0;34m)\u001b[0m\u001b[0;34m\u001b[0m\u001b[0;34m\u001b[0m\u001b[0m\n\u001b[1;32m    203\u001b[0m \u001b[0;34m\u001b[0m\u001b[0m\n\u001b[0;32m--> 204\u001b[0;31m                 \u001b[0mouts\u001b[0m \u001b[0;34m=\u001b[0m \u001b[0mfit_function\u001b[0m\u001b[0;34m(\u001b[0m\u001b[0mins_batch\u001b[0m\u001b[0;34m)\u001b[0m\u001b[0;34m\u001b[0m\u001b[0;34m\u001b[0m\u001b[0m\n\u001b[0m\u001b[1;32m    205\u001b[0m                 \u001b[0mouts\u001b[0m \u001b[0;34m=\u001b[0m \u001b[0mto_list\u001b[0m\u001b[0;34m(\u001b[0m\u001b[0mouts\u001b[0m\u001b[0;34m)\u001b[0m\u001b[0;34m\u001b[0m\u001b[0;34m\u001b[0m\u001b[0m\n\u001b[1;32m    206\u001b[0m                 \u001b[0;32mfor\u001b[0m \u001b[0ml\u001b[0m\u001b[0;34m,\u001b[0m \u001b[0mo\u001b[0m \u001b[0;32min\u001b[0m \u001b[0mzip\u001b[0m\u001b[0;34m(\u001b[0m\u001b[0mout_labels\u001b[0m\u001b[0;34m,\u001b[0m \u001b[0mouts\u001b[0m\u001b[0;34m)\u001b[0m\u001b[0;34m:\u001b[0m\u001b[0;34m\u001b[0m\u001b[0;34m\u001b[0m\u001b[0m\n",
      "\u001b[0;32m/usr/local/lib/python3.7/dist-packages/keras/backend/tensorflow_backend.py\u001b[0m in \u001b[0;36m__call__\u001b[0;34m(self, inputs)\u001b[0m\n\u001b[1;32m   2957\u001b[0m \u001b[0;34m\u001b[0m\u001b[0m\n\u001b[1;32m   2958\u001b[0m     \u001b[0;32mdef\u001b[0m \u001b[0m__call__\u001b[0m\u001b[0;34m(\u001b[0m\u001b[0mself\u001b[0m\u001b[0;34m,\u001b[0m \u001b[0minputs\u001b[0m\u001b[0;34m)\u001b[0m\u001b[0;34m:\u001b[0m\u001b[0;34m\u001b[0m\u001b[0;34m\u001b[0m\u001b[0m\n\u001b[0;32m-> 2959\u001b[0;31m         \u001b[0;32mif\u001b[0m \u001b[0mhasattr\u001b[0m\u001b[0;34m(\u001b[0m\u001b[0mget_session\u001b[0m\u001b[0;34m(\u001b[0m\u001b[0;34m)\u001b[0m\u001b[0;34m,\u001b[0m \u001b[0;34m'_make_callable_from_options'\u001b[0m\u001b[0;34m)\u001b[0m\u001b[0;34m:\u001b[0m\u001b[0;34m\u001b[0m\u001b[0;34m\u001b[0m\u001b[0m\n\u001b[0m\u001b[1;32m   2960\u001b[0m             \u001b[0;32mif\u001b[0m \u001b[0mpy_any\u001b[0m\u001b[0;34m(\u001b[0m\u001b[0mis_sparse\u001b[0m\u001b[0;34m(\u001b[0m\u001b[0mx\u001b[0m\u001b[0;34m)\u001b[0m \u001b[0;32mfor\u001b[0m \u001b[0mx\u001b[0m \u001b[0;32min\u001b[0m \u001b[0mself\u001b[0m\u001b[0;34m.\u001b[0m\u001b[0minputs\u001b[0m\u001b[0;34m)\u001b[0m\u001b[0;34m:\u001b[0m\u001b[0;34m\u001b[0m\u001b[0;34m\u001b[0m\u001b[0m\n\u001b[1;32m   2961\u001b[0m                 \u001b[0;32mif\u001b[0m \u001b[0mpy_any\u001b[0m\u001b[0;34m(\u001b[0m\u001b[0mis_tensor\u001b[0m\u001b[0;34m(\u001b[0m\u001b[0mx\u001b[0m\u001b[0;34m)\u001b[0m \u001b[0;32mfor\u001b[0m \u001b[0mx\u001b[0m \u001b[0;32min\u001b[0m \u001b[0minputs\u001b[0m\u001b[0;34m)\u001b[0m\u001b[0;34m:\u001b[0m\u001b[0;34m\u001b[0m\u001b[0;34m\u001b[0m\u001b[0m\n",
      "\u001b[0;32m/usr/local/lib/python3.7/dist-packages/keras/backend/tensorflow_backend.py\u001b[0m in \u001b[0;36mget_session\u001b[0;34m()\u001b[0m\n\u001b[1;32m    214\u001b[0m                 \u001b[0;31m# not already marked as initialized.\u001b[0m\u001b[0;34m\u001b[0m\u001b[0;34m\u001b[0m\u001b[0;34m\u001b[0m\u001b[0m\n\u001b[1;32m    215\u001b[0m                 is_initialized = session.run(\n\u001b[0;32m--> 216\u001b[0;31m                     [tf.is_variable_initialized(v) for v in candidate_vars])\n\u001b[0m\u001b[1;32m    217\u001b[0m                 \u001b[0muninitialized_vars\u001b[0m \u001b[0;34m=\u001b[0m \u001b[0;34m[\u001b[0m\u001b[0;34m]\u001b[0m\u001b[0;34m\u001b[0m\u001b[0;34m\u001b[0m\u001b[0m\n\u001b[1;32m    218\u001b[0m                 \u001b[0;32mfor\u001b[0m \u001b[0mflag\u001b[0m\u001b[0;34m,\u001b[0m \u001b[0mv\u001b[0m \u001b[0;32min\u001b[0m \u001b[0mzip\u001b[0m\u001b[0;34m(\u001b[0m\u001b[0mis_initialized\u001b[0m\u001b[0;34m,\u001b[0m \u001b[0mcandidate_vars\u001b[0m\u001b[0;34m)\u001b[0m\u001b[0;34m:\u001b[0m\u001b[0;34m\u001b[0m\u001b[0;34m\u001b[0m\u001b[0m\n",
      "\u001b[0;32m/usr/local/lib/python3.7/dist-packages/tensorflow/python/client/session.py\u001b[0m in \u001b[0;36mrun\u001b[0;34m(self, fetches, feed_dict, options, run_metadata)\u001b[0m\n\u001b[1;32m    948\u001b[0m     \u001b[0;32mtry\u001b[0m\u001b[0;34m:\u001b[0m\u001b[0;34m\u001b[0m\u001b[0;34m\u001b[0m\u001b[0m\n\u001b[1;32m    949\u001b[0m       result = self._run(None, fetches, feed_dict, options_ptr,\n\u001b[0;32m--> 950\u001b[0;31m                          run_metadata_ptr)\n\u001b[0m\u001b[1;32m    951\u001b[0m       \u001b[0;32mif\u001b[0m \u001b[0mrun_metadata\u001b[0m\u001b[0;34m:\u001b[0m\u001b[0;34m\u001b[0m\u001b[0;34m\u001b[0m\u001b[0m\n\u001b[1;32m    952\u001b[0m         \u001b[0mproto_data\u001b[0m \u001b[0;34m=\u001b[0m \u001b[0mtf_session\u001b[0m\u001b[0;34m.\u001b[0m\u001b[0mTF_GetBuffer\u001b[0m\u001b[0;34m(\u001b[0m\u001b[0mrun_metadata_ptr\u001b[0m\u001b[0;34m)\u001b[0m\u001b[0;34m\u001b[0m\u001b[0;34m\u001b[0m\u001b[0m\n",
      "\u001b[0;32m/usr/local/lib/python3.7/dist-packages/tensorflow/python/client/session.py\u001b[0m in \u001b[0;36m_run\u001b[0;34m(self, handle, fetches, feed_dict, options, run_metadata)\u001b[0m\n\u001b[1;32m   1171\u001b[0m     \u001b[0;32mif\u001b[0m \u001b[0mfinal_fetches\u001b[0m \u001b[0;32mor\u001b[0m \u001b[0mfinal_targets\u001b[0m \u001b[0;32mor\u001b[0m \u001b[0;34m(\u001b[0m\u001b[0mhandle\u001b[0m \u001b[0;32mand\u001b[0m \u001b[0mfeed_dict_tensor\u001b[0m\u001b[0;34m)\u001b[0m\u001b[0;34m:\u001b[0m\u001b[0;34m\u001b[0m\u001b[0;34m\u001b[0m\u001b[0m\n\u001b[1;32m   1172\u001b[0m       results = self._do_run(handle, final_targets, final_fetches,\n\u001b[0;32m-> 1173\u001b[0;31m                              feed_dict_tensor, options, run_metadata)\n\u001b[0m\u001b[1;32m   1174\u001b[0m     \u001b[0;32melse\u001b[0m\u001b[0;34m:\u001b[0m\u001b[0;34m\u001b[0m\u001b[0;34m\u001b[0m\u001b[0m\n\u001b[1;32m   1175\u001b[0m       \u001b[0mresults\u001b[0m \u001b[0;34m=\u001b[0m \u001b[0;34m[\u001b[0m\u001b[0;34m]\u001b[0m\u001b[0;34m\u001b[0m\u001b[0;34m\u001b[0m\u001b[0m\n",
      "\u001b[0;32m/usr/local/lib/python3.7/dist-packages/tensorflow/python/client/session.py\u001b[0m in \u001b[0;36m_do_run\u001b[0;34m(self, handle, target_list, fetch_list, feed_dict, options, run_metadata)\u001b[0m\n\u001b[1;32m   1348\u001b[0m     \u001b[0;32mif\u001b[0m \u001b[0mhandle\u001b[0m \u001b[0;32mis\u001b[0m \u001b[0;32mNone\u001b[0m\u001b[0;34m:\u001b[0m\u001b[0;34m\u001b[0m\u001b[0;34m\u001b[0m\u001b[0m\n\u001b[1;32m   1349\u001b[0m       return self._do_call(_run_fn, feeds, fetches, targets, options,\n\u001b[0;32m-> 1350\u001b[0;31m                            run_metadata)\n\u001b[0m\u001b[1;32m   1351\u001b[0m     \u001b[0;32melse\u001b[0m\u001b[0;34m:\u001b[0m\u001b[0;34m\u001b[0m\u001b[0;34m\u001b[0m\u001b[0m\n\u001b[1;32m   1352\u001b[0m       \u001b[0;32mreturn\u001b[0m \u001b[0mself\u001b[0m\u001b[0;34m.\u001b[0m\u001b[0m_do_call\u001b[0m\u001b[0;34m(\u001b[0m\u001b[0m_prun_fn\u001b[0m\u001b[0;34m,\u001b[0m \u001b[0mhandle\u001b[0m\u001b[0;34m,\u001b[0m \u001b[0mfeeds\u001b[0m\u001b[0;34m,\u001b[0m \u001b[0mfetches\u001b[0m\u001b[0;34m)\u001b[0m\u001b[0;34m\u001b[0m\u001b[0;34m\u001b[0m\u001b[0m\n",
      "\u001b[0;32m/usr/local/lib/python3.7/dist-packages/tensorflow/python/client/session.py\u001b[0m in \u001b[0;36m_do_call\u001b[0;34m(self, fn, *args)\u001b[0m\n\u001b[1;32m   1354\u001b[0m   \u001b[0;32mdef\u001b[0m \u001b[0m_do_call\u001b[0m\u001b[0;34m(\u001b[0m\u001b[0mself\u001b[0m\u001b[0;34m,\u001b[0m \u001b[0mfn\u001b[0m\u001b[0;34m,\u001b[0m \u001b[0;34m*\u001b[0m\u001b[0margs\u001b[0m\u001b[0;34m)\u001b[0m\u001b[0;34m:\u001b[0m\u001b[0;34m\u001b[0m\u001b[0;34m\u001b[0m\u001b[0m\n\u001b[1;32m   1355\u001b[0m     \u001b[0;32mtry\u001b[0m\u001b[0;34m:\u001b[0m\u001b[0;34m\u001b[0m\u001b[0;34m\u001b[0m\u001b[0m\n\u001b[0;32m-> 1356\u001b[0;31m       \u001b[0;32mreturn\u001b[0m \u001b[0mfn\u001b[0m\u001b[0;34m(\u001b[0m\u001b[0;34m*\u001b[0m\u001b[0margs\u001b[0m\u001b[0;34m)\u001b[0m\u001b[0;34m\u001b[0m\u001b[0;34m\u001b[0m\u001b[0m\n\u001b[0m\u001b[1;32m   1357\u001b[0m     \u001b[0;32mexcept\u001b[0m \u001b[0merrors\u001b[0m\u001b[0;34m.\u001b[0m\u001b[0mOpError\u001b[0m \u001b[0;32mas\u001b[0m \u001b[0me\u001b[0m\u001b[0;34m:\u001b[0m\u001b[0;34m\u001b[0m\u001b[0;34m\u001b[0m\u001b[0m\n\u001b[1;32m   1358\u001b[0m       \u001b[0mmessage\u001b[0m \u001b[0;34m=\u001b[0m \u001b[0mcompat\u001b[0m\u001b[0;34m.\u001b[0m\u001b[0mas_text\u001b[0m\u001b[0;34m(\u001b[0m\u001b[0me\u001b[0m\u001b[0;34m.\u001b[0m\u001b[0mmessage\u001b[0m\u001b[0;34m)\u001b[0m\u001b[0;34m\u001b[0m\u001b[0;34m\u001b[0m\u001b[0m\n",
      "\u001b[0;32m/usr/local/lib/python3.7/dist-packages/tensorflow/python/client/session.py\u001b[0m in \u001b[0;36m_run_fn\u001b[0;34m(feed_dict, fetch_list, target_list, options, run_metadata)\u001b[0m\n\u001b[1;32m   1339\u001b[0m       \u001b[0mself\u001b[0m\u001b[0;34m.\u001b[0m\u001b[0m_extend_graph\u001b[0m\u001b[0;34m(\u001b[0m\u001b[0;34m)\u001b[0m\u001b[0;34m\u001b[0m\u001b[0;34m\u001b[0m\u001b[0m\n\u001b[1;32m   1340\u001b[0m       return self._call_tf_sessionrun(\n\u001b[0;32m-> 1341\u001b[0;31m           options, feed_dict, fetch_list, target_list, run_metadata)\n\u001b[0m\u001b[1;32m   1342\u001b[0m \u001b[0;34m\u001b[0m\u001b[0m\n\u001b[1;32m   1343\u001b[0m     \u001b[0;32mdef\u001b[0m \u001b[0m_prun_fn\u001b[0m\u001b[0;34m(\u001b[0m\u001b[0mhandle\u001b[0m\u001b[0;34m,\u001b[0m \u001b[0mfeed_dict\u001b[0m\u001b[0;34m,\u001b[0m \u001b[0mfetch_list\u001b[0m\u001b[0;34m)\u001b[0m\u001b[0;34m:\u001b[0m\u001b[0;34m\u001b[0m\u001b[0;34m\u001b[0m\u001b[0m\n",
      "\u001b[0;32m/usr/local/lib/python3.7/dist-packages/tensorflow/python/client/session.py\u001b[0m in \u001b[0;36m_call_tf_sessionrun\u001b[0;34m(self, options, feed_dict, fetch_list, target_list, run_metadata)\u001b[0m\n\u001b[1;32m   1427\u001b[0m     return tf_session.TF_SessionRun_wrapper(\n\u001b[1;32m   1428\u001b[0m         \u001b[0mself\u001b[0m\u001b[0;34m.\u001b[0m\u001b[0m_session\u001b[0m\u001b[0;34m,\u001b[0m \u001b[0moptions\u001b[0m\u001b[0;34m,\u001b[0m \u001b[0mfeed_dict\u001b[0m\u001b[0;34m,\u001b[0m \u001b[0mfetch_list\u001b[0m\u001b[0;34m,\u001b[0m \u001b[0mtarget_list\u001b[0m\u001b[0;34m,\u001b[0m\u001b[0;34m\u001b[0m\u001b[0;34m\u001b[0m\u001b[0m\n\u001b[0;32m-> 1429\u001b[0;31m         run_metadata)\n\u001b[0m\u001b[1;32m   1430\u001b[0m \u001b[0;34m\u001b[0m\u001b[0m\n\u001b[1;32m   1431\u001b[0m   \u001b[0;32mdef\u001b[0m \u001b[0m_call_tf_sessionprun\u001b[0m\u001b[0;34m(\u001b[0m\u001b[0mself\u001b[0m\u001b[0;34m,\u001b[0m \u001b[0mhandle\u001b[0m\u001b[0;34m,\u001b[0m \u001b[0mfeed_dict\u001b[0m\u001b[0;34m,\u001b[0m \u001b[0mfetch_list\u001b[0m\u001b[0;34m)\u001b[0m\u001b[0;34m:\u001b[0m\u001b[0;34m\u001b[0m\u001b[0;34m\u001b[0m\u001b[0m\n",
      "\u001b[0;31mKeyboardInterrupt\u001b[0m: "
     ]
    }
   ],
   "source": [
    "predict_matrix = main(dnn_input_data,IPC)\n",
    "print(predict_matrix)"
   ]
  },
  {
   "cell_type": "code",
   "execution_count": null,
   "metadata": {},
   "outputs": [],
   "source": []
  }
 ],
 "metadata": {
  "celltoolbar": "Initialization Cell",
  "kernelspec": {
   "display_name": "Python 3",
   "language": "python",
   "name": "python3"
  },
  "language_info": {
   "codemirror_mode": {
    "name": "ipython",
    "version": 3
   },
   "file_extension": ".py",
   "mimetype": "text/x-python",
   "name": "python",
   "nbconvert_exporter": "python",
   "pygments_lexer": "ipython3",
   "version": "3.7.8"
  },
  "toc": {
   "base_numbering": 1,
   "nav_menu": {},
   "number_sections": true,
   "sideBar": true,
   "skip_h1_title": false,
   "title_cell": "Table of Contents",
   "title_sidebar": "Contents",
   "toc_cell": false,
   "toc_position": {
    "height": "calc(100% - 180px)",
    "left": "10px",
    "top": "150px",
    "width": "367.391px"
   },
   "toc_section_display": true,
   "toc_window_display": true
  },
  "varInspector": {
   "cols": {
    "lenName": 16,
    "lenType": 16,
    "lenVar": 40
   },
   "kernels_config": {
    "python": {
     "delete_cmd_postfix": "",
     "delete_cmd_prefix": "del ",
     "library": "var_list.py",
     "varRefreshCmd": "print(var_dic_list())"
    },
    "r": {
     "delete_cmd_postfix": ") ",
     "delete_cmd_prefix": "rm(",
     "library": "var_list.r",
     "varRefreshCmd": "cat(var_dic_list()) "
    }
   },
   "position": {
    "height": "144px",
    "left": "1525px",
    "right": "20px",
    "top": "152px",
    "width": "350px"
   },
   "types_to_exclude": [
    "module",
    "function",
    "builtin_function_or_method",
    "instance",
    "_Feature"
   ],
   "window_display": false
  }
 },
 "nbformat": 4,
 "nbformat_minor": 4
}
